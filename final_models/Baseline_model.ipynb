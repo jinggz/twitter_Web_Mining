{
 "cells": [
  {
   "cell_type": "markdown",
   "metadata": {},
   "source": [
    "# Baseline Model"
   ]
  },
  {
   "cell_type": "markdown",
   "metadata": {},
   "source": [
    "Imports"
   ]
  },
  {
   "cell_type": "code",
   "execution_count": 29,
   "metadata": {
    "collapsed": true
   },
   "outputs": [],
   "source": [
    "import pandas as pd  \n",
    "import numpy as np\n",
    "import matplotlib.pyplot as plt\n",
    "import warnings\n",
    "from nltk.tokenize import WordPunctTokenizer\n",
    "from bs4 import BeautifulSoup\n",
    "from sklearn.metrics import accuracy_score, f1_score\n",
    "from sklearn.cross_validation import train_test_split\n",
    "from textblob import TextBlob\n",
    "import operator\n",
    "warnings.filterwarnings('ignore')\n",
    "plt.style.use('fivethirtyeight')\n",
    "%matplotlib inline\n",
    "%config InlineBackend.figure_format = 'retina'\n"
   ]
  },
  {
   "cell_type": "code",
   "execution_count": 56,
   "metadata": {
    "collapsed": true
   },
   "outputs": [],
   "source": [
    "my_df = pd.read_csv(\"./iphone_final.csv\",index_col=0)"
   ]
  },
  {
   "cell_type": "code",
   "execution_count": 57,
   "metadata": {},
   "outputs": [
    {
     "name": "stdout",
     "output_type": "stream",
     "text": [
      "(21627, 10)\n"
     ]
    }
   ],
   "source": [
    "print(my_df.shape)"
   ]
  },
  {
   "cell_type": "code",
   "execution_count": 58,
   "metadata": {},
   "outputs": [
    {
     "data": {
      "text/html": [
       "<div>\n",
       "<style>\n",
       "    .dataframe thead tr:only-child th {\n",
       "        text-align: right;\n",
       "    }\n",
       "\n",
       "    .dataframe thead th {\n",
       "        text-align: left;\n",
       "    }\n",
       "\n",
       "    .dataframe tbody tr th {\n",
       "        vertical-align: top;\n",
       "    }\n",
       "</style>\n",
       "<table border=\"1\" class=\"dataframe\">\n",
       "  <thead>\n",
       "    <tr style=\"text-align: right;\">\n",
       "      <th></th>\n",
       "      <th>date</th>\n",
       "      <th>text_original</th>\n",
       "      <th>permalink</th>\n",
       "      <th>text_preprocessed</th>\n",
       "      <th>polarity</th>\n",
       "      <th>polarity_confidence</th>\n",
       "      <th>subjectivity</th>\n",
       "      <th>subjectivity_confidence</th>\n",
       "      <th>polarityNum</th>\n",
       "      <th>brand</th>\n",
       "    </tr>\n",
       "    <tr>\n",
       "      <th>id</th>\n",
       "      <th></th>\n",
       "      <th></th>\n",
       "      <th></th>\n",
       "      <th></th>\n",
       "      <th></th>\n",
       "      <th></th>\n",
       "      <th></th>\n",
       "      <th></th>\n",
       "      <th></th>\n",
       "      <th></th>\n",
       "    </tr>\n",
       "  </thead>\n",
       "  <tbody>\n",
       "    <tr>\n",
       "      <th>948570515085713408</th>\n",
       "      <td>2018-01-03 16:03</td>\n",
       "      <td>It's 10 AM and my iPhone 7 battery is already ...</td>\n",
       "      <td>https://twitter.com/TheScottBeach/status/94857...</td>\n",
       "      <td>s iphone battery already minute phone call tol...</td>\n",
       "      <td>negative</td>\n",
       "      <td>0.894631</td>\n",
       "      <td>subjective</td>\n",
       "      <td>1.0</td>\n",
       "      <td>-1.0</td>\n",
       "      <td>iphone</td>\n",
       "    </tr>\n",
       "    <tr>\n",
       "      <th>945970348436094977</th>\n",
       "      <td>2017-12-27 11:51</td>\n",
       "      <td>Apple launched three phones this year: the bez...</td>\n",
       "      <td>https://twitter.com/Today__Tech/status/9459703...</td>\n",
       "      <td>apple launched three phone year bezelbusting i...</td>\n",
       "      <td>positive</td>\n",
       "      <td>0.492551</td>\n",
       "      <td>subjective</td>\n",
       "      <td>1.0</td>\n",
       "      <td>1.0</td>\n",
       "      <td>iphone</td>\n",
       "    </tr>\n",
       "  </tbody>\n",
       "</table>\n",
       "</div>"
      ],
      "text/plain": [
       "                                date  \\\n",
       "id                                     \n",
       "948570515085713408  2018-01-03 16:03   \n",
       "945970348436094977  2017-12-27 11:51   \n",
       "\n",
       "                                                        text_original  \\\n",
       "id                                                                      \n",
       "948570515085713408  It's 10 AM and my iPhone 7 battery is already ...   \n",
       "945970348436094977  Apple launched three phones this year: the bez...   \n",
       "\n",
       "                                                            permalink  \\\n",
       "id                                                                      \n",
       "948570515085713408  https://twitter.com/TheScottBeach/status/94857...   \n",
       "945970348436094977  https://twitter.com/Today__Tech/status/9459703...   \n",
       "\n",
       "                                                    text_preprocessed  \\\n",
       "id                                                                      \n",
       "948570515085713408  s iphone battery already minute phone call tol...   \n",
       "945970348436094977  apple launched three phone year bezelbusting i...   \n",
       "\n",
       "                    polarity  polarity_confidence subjectivity  \\\n",
       "id                                                               \n",
       "948570515085713408  negative             0.894631   subjective   \n",
       "945970348436094977  positive             0.492551   subjective   \n",
       "\n",
       "                    subjectivity_confidence  polarityNum   brand  \n",
       "id                                                                \n",
       "948570515085713408                      1.0         -1.0  iphone  \n",
       "945970348436094977                      1.0          1.0  iphone  "
      ]
     },
     "execution_count": 58,
     "metadata": {},
     "output_type": "execute_result"
    }
   ],
   "source": [
    "my_df.head(2)"
   ]
  },
  {
   "cell_type": "code",
   "execution_count": 59,
   "metadata": {},
   "outputs": [],
   "source": [
    "#my_df = my_df[my_df['polarityNum'] != 0 ]"
   ]
  },
  {
   "cell_type": "code",
   "execution_count": 60,
   "metadata": {
    "collapsed": true
   },
   "outputs": [],
   "source": [
    "my_df = my_df.drop(['date','text_original','permalink','brand','polarity_confidence','subjectivity','subjectivity_confidence','polarity'],axis=1)"
   ]
  },
  {
   "cell_type": "code",
   "execution_count": 61,
   "metadata": {},
   "outputs": [
    {
     "data": {
      "text/html": [
       "<div>\n",
       "<style>\n",
       "    .dataframe thead tr:only-child th {\n",
       "        text-align: right;\n",
       "    }\n",
       "\n",
       "    .dataframe thead th {\n",
       "        text-align: left;\n",
       "    }\n",
       "\n",
       "    .dataframe tbody tr th {\n",
       "        vertical-align: top;\n",
       "    }\n",
       "</style>\n",
       "<table border=\"1\" class=\"dataframe\">\n",
       "  <thead>\n",
       "    <tr style=\"text-align: right;\">\n",
       "      <th></th>\n",
       "      <th>text_preprocessed</th>\n",
       "      <th>polarityNum</th>\n",
       "    </tr>\n",
       "    <tr>\n",
       "      <th>id</th>\n",
       "      <th></th>\n",
       "      <th></th>\n",
       "    </tr>\n",
       "  </thead>\n",
       "  <tbody>\n",
       "    <tr>\n",
       "      <th>948570515085713408</th>\n",
       "      <td>s iphone battery already minute phone call tol...</td>\n",
       "      <td>-1.0</td>\n",
       "    </tr>\n",
       "    <tr>\n",
       "      <th>945970348436094977</th>\n",
       "      <td>apple launched three phone year bezelbusting i...</td>\n",
       "      <td>1.0</td>\n",
       "    </tr>\n",
       "    <tr>\n",
       "      <th>951907048035270656</th>\n",
       "      <td>cut one phone completely iphone dnd yeah ready...</td>\n",
       "      <td>1.0</td>\n",
       "    </tr>\n",
       "    <tr>\n",
       "      <th>972090952251670528</th>\n",
       "      <td>think apple iphone x notch trend flagship phon...</td>\n",
       "      <td>0.0</td>\n",
       "    </tr>\n",
       "    <tr>\n",
       "      <th>958395849737990144</th>\n",
       "      <td>fluffy bling iphone case color stock http shop...</td>\n",
       "      <td>1.0</td>\n",
       "    </tr>\n",
       "  </tbody>\n",
       "</table>\n",
       "</div>"
      ],
      "text/plain": [
       "                                                    text_preprocessed  \\\n",
       "id                                                                      \n",
       "948570515085713408  s iphone battery already minute phone call tol...   \n",
       "945970348436094977  apple launched three phone year bezelbusting i...   \n",
       "951907048035270656  cut one phone completely iphone dnd yeah ready...   \n",
       "972090952251670528  think apple iphone x notch trend flagship phon...   \n",
       "958395849737990144  fluffy bling iphone case color stock http shop...   \n",
       "\n",
       "                    polarityNum  \n",
       "id                               \n",
       "948570515085713408         -1.0  \n",
       "945970348436094977          1.0  \n",
       "951907048035270656          1.0  \n",
       "972090952251670528          0.0  \n",
       "958395849737990144          1.0  "
      ]
     },
     "execution_count": 61,
     "metadata": {},
     "output_type": "execute_result"
    }
   ],
   "source": [
    "my_df.head()"
   ]
  },
  {
   "cell_type": "code",
   "execution_count": 62,
   "metadata": {
    "collapsed": true
   },
   "outputs": [],
   "source": [
    "#converting polarity type to integer\n",
    "my_df['polarityNum'] = my_df['polarityNum'].astype(int)"
   ]
  },
  {
   "cell_type": "code",
   "execution_count": 63,
   "metadata": {},
   "outputs": [
    {
     "name": "stdout",
     "output_type": "stream",
     "text": [
      "<class 'pandas.core.frame.DataFrame'>\n",
      "RangeIndex: 21627 entries, 0 to 21626\n",
      "Data columns (total 2 columns):\n",
      "text_preprocessed    21627 non-null object\n",
      "polarityNum          21627 non-null int32\n",
      "dtypes: int32(1), object(1)\n",
      "memory usage: 253.5+ KB\n"
     ]
    }
   ],
   "source": [
    "my_df.dropna(inplace=True)\n",
    "my_df.reset_index(drop=True,inplace=True)\n",
    "my_df.info()"
   ]
  },
  {
   "cell_type": "code",
   "execution_count": 64,
   "metadata": {
    "collapsed": true
   },
   "outputs": [],
   "source": [
    "x_train = my_df.text_preprocessed\n",
    "y_train = my_df.polarityNum"
   ]
  },
  {
   "cell_type": "code",
   "execution_count": 65,
   "metadata": {
    "collapsed": true
   },
   "outputs": [],
   "source": [
    "#Spliting train, validation and test set in the ration 80%, 10% and 10% respectively\n",
    "SEED = 200\n",
    "x_train, x_validation_and_test, y_train, y_validation_and_test = train_test_split(x_train, y_train, test_size=.20, random_state=SEED)\n",
    "x_validation, x_test, y_validation, y_test = train_test_split(x_validation_and_test, y_validation_and_test, test_size=.5, random_state=SEED)\n"
   ]
  },
  {
   "cell_type": "code",
   "execution_count": 66,
   "metadata": {},
   "outputs": [
    {
     "name": "stdout",
     "output_type": "stream",
     "text": [
      "(17301,)\n",
      "(2163,)\n",
      "(2163,)\n",
      "(17301,)\n",
      "(2163,)\n",
      "(2163,)\n"
     ]
    }
   ],
   "source": [
    "print(x_train.shape)\n",
    "print(x_validation.shape)\n",
    "print(x_test.shape)\n",
    "print(y_train.shape)\n",
    "print(y_validation.shape)\n",
    "print(y_test.shape)"
   ]
  },
  {
   "cell_type": "markdown",
   "metadata": {},
   "source": [
    "Annotating the test set using TextBlob and calculating F1 on the annotated test data"
   ]
  },
  {
   "cell_type": "code",
   "execution_count": 67,
   "metadata": {},
   "outputs": [
    {
     "name": "stdout",
     "output_type": "stream",
     "text": [
      "F1 score for textblob as baseline is :\n",
      "0.48674043126144256\n"
     ]
    }
   ],
   "source": [
    "y_textblob = []\n",
    "for tweet in x_test:\n",
    "   testblob =TextBlob(tweet)\n",
    "   sentiment = testblob.sentiment.polarity\n",
    "   if(sentiment > 0.0):\n",
    "       polarity = 1\n",
    "   elif(sentiment < 0.0):\n",
    "       polarity = -1\n",
    "   else:\n",
    "       polarity = 0\n",
    "   y_textblob.append(polarity)\n",
    "f1_textblob = f1_score(y_textblob,y_test, average = 'macro')\n",
    "print('F1 score for textblob as baseline is :' )\n",
    "print(f1_textblob)"
   ]
  }
 ],
 "metadata": {
  "kernelspec": {
   "display_name": "Python 3",
   "language": "python",
   "name": "python3"
  },
  "language_info": {
   "codemirror_mode": {
    "name": "ipython",
    "version": 3
   },
   "file_extension": ".py",
   "mimetype": "text/x-python",
   "name": "python",
   "nbconvert_exporter": "python",
   "pygments_lexer": "ipython3",
   "version": "3.6.1"
  }
 },
 "nbformat": 4,
 "nbformat_minor": 2
}
