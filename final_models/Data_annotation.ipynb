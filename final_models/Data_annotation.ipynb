{
 "cells": [
  {
   "cell_type": "markdown",
   "metadata": {},
   "source": [
    "# Authentication for annotation api\n",
    "    1. Create authentication keys by signing up in developer account of aylien as link below.\n",
    "        https://developer.aylien.com "
   ]
  },
  {
   "cell_type": "markdown",
   "metadata": {},
   "source": [
    "# Imports"
   ]
  },
  {
   "cell_type": "code",
   "execution_count": 1,
   "metadata": {
    "collapsed": true
   },
   "outputs": [],
   "source": [
    "from aylienapiclient import textapi\n",
    "import pandas as pd\n",
    "import numpy as np\n",
    "import time\n",
    "import codecs\n",
    "import csv"
   ]
  },
  {
   "cell_type": "markdown",
   "metadata": {},
   "source": [
    "# Read the file to annotate"
   ]
  },
  {
   "cell_type": "code",
   "execution_count": 2,
   "metadata": {
    "collapsed": true
   },
   "outputs": [],
   "source": [
    "file_Path = './tweets.csv'\n",
    "client = textapi.Client(\"73f6763f\", \"9177bf543dd50a9a9327d2ff6e316884\")\n",
    "data = pd.read_csv(file_Path,encoding='utf-8')"
   ]
  },
  {
   "cell_type": "code",
   "execution_count": 3,
   "metadata": {
    "scrolled": true
   },
   "outputs": [
    {
     "data": {
      "text/html": [
       "<div>\n",
       "<style>\n",
       "    .dataframe thead tr:only-child th {\n",
       "        text-align: right;\n",
       "    }\n",
       "\n",
       "    .dataframe thead th {\n",
       "        text-align: left;\n",
       "    }\n",
       "\n",
       "    .dataframe tbody tr th {\n",
       "        vertical-align: top;\n",
       "    }\n",
       "</style>\n",
       "<table border=\"1\" class=\"dataframe\">\n",
       "  <thead>\n",
       "    <tr style=\"text-align: right;\">\n",
       "      <th></th>\n",
       "      <th>id</th>\n",
       "      <th>date</th>\n",
       "      <th>text</th>\n",
       "      <th>permalink</th>\n",
       "    </tr>\n",
       "  </thead>\n",
       "  <tbody>\n",
       "    <tr>\n",
       "      <th>0</th>\n",
       "      <td>952683598699778048</td>\n",
       "      <td>2018-01-15 00:27</td>\n",
       "      <td>#2: Digital Phone Tripod, Portable And Adjusta...</td>\n",
       "      <td>https://twitter.com/Selfie_Sticks_/status/9526...</td>\n",
       "    </tr>\n",
       "    <tr>\n",
       "      <th>1</th>\n",
       "      <td>948570515085713408</td>\n",
       "      <td>2018-01-03 16:03</td>\n",
       "      <td>It's 10 AM and my iPhone 7 battery is already ...</td>\n",
       "      <td>https://twitter.com/TheScottBeach/status/94857...</td>\n",
       "    </tr>\n",
       "    <tr>\n",
       "      <th>2</th>\n",
       "      <td>945970348436094977</td>\n",
       "      <td>2017-12-27 11:51</td>\n",
       "      <td>Apple launched three phones this year: the bez...</td>\n",
       "      <td>https://twitter.com/Today__Tech/status/9459703...</td>\n",
       "    </tr>\n",
       "    <tr>\n",
       "      <th>3</th>\n",
       "      <td>953243729376301056</td>\n",
       "      <td>2018-01-16 13:33</td>\n",
       "      <td>EE has fresh Galaxy S8, iPhone 7 and Pixel 2 d...</td>\n",
       "      <td>https://twitter.com/Rincon_TechNews/status/953...</td>\n",
       "    </tr>\n",
       "    <tr>\n",
       "      <th>4</th>\n",
       "      <td>914963779938603008</td>\n",
       "      <td>2017-10-02 23:22</td>\n",
       "      <td>I hate the idea of not being able to charge ur...</td>\n",
       "      <td>https://twitter.com/joaannaaam/status/91496377...</td>\n",
       "    </tr>\n",
       "  </tbody>\n",
       "</table>\n",
       "</div>"
      ],
      "text/plain": [
       "                   id              date  \\\n",
       "0  952683598699778048  2018-01-15 00:27   \n",
       "1  948570515085713408  2018-01-03 16:03   \n",
       "2  945970348436094977  2017-12-27 11:51   \n",
       "3  953243729376301056  2018-01-16 13:33   \n",
       "4  914963779938603008  2017-10-02 23:22   \n",
       "\n",
       "                                                text  \\\n",
       "0  #2: Digital Phone Tripod, Portable And Adjusta...   \n",
       "1  It's 10 AM and my iPhone 7 battery is already ...   \n",
       "2  Apple launched three phones this year: the bez...   \n",
       "3  EE has fresh Galaxy S8, iPhone 7 and Pixel 2 d...   \n",
       "4  I hate the idea of not being able to charge ur...   \n",
       "\n",
       "                                           permalink  \n",
       "0  https://twitter.com/Selfie_Sticks_/status/9526...  \n",
       "1  https://twitter.com/TheScottBeach/status/94857...  \n",
       "2  https://twitter.com/Today__Tech/status/9459703...  \n",
       "3  https://twitter.com/Rincon_TechNews/status/953...  \n",
       "4  https://twitter.com/joaannaaam/status/91496377...  "
      ]
     },
     "execution_count": 3,
     "metadata": {},
     "output_type": "execute_result"
    }
   ],
   "source": [
    "data.head()"
   ]
  },
  {
   "cell_type": "markdown",
   "metadata": {},
   "source": [
    "# Set executation interval "
   ]
  },
  {
   "cell_type": "code",
   "execution_count": 5,
   "metadata": {
    "collapsed": true
   },
   "outputs": [],
   "source": [
    "def sleeptime(hour,min,sec):\n",
    "    return (hour*3600 + min*60 + sec)\n",
    "second = sleeptime(0,2,0)"
   ]
  },
  {
   "cell_type": "markdown",
   "metadata": {},
   "source": [
    "# Extract annotated data from api at 2-min interval\n",
    "\n",
    "    setting 'a' to 0 if we want to start annotate from 0th row."
   ]
  },
  {
   "cell_type": "code",
   "execution_count": 6,
   "metadata": {
    "collapsed": true
   },
   "outputs": [],
   "source": [
    "a=0 #the start line of data\n",
    "file_path_save = './filename.csv'\n",
    "with codecs.open(file_path_save, 'a', 'utf-8') as csv_file:\n",
    "    writer = csv.writer(csv_file)\n",
    "    writer.writerow(['id','text','polarity','polarity_confidence','subjectivity','subjectivity_confidence']) #write header\n",
    "    \n",
    "    for i in range(0,16):\n",
    "        for j in range(a+60*i,a+60*i+60):            \n",
    "            sentiment=client.Sentiment({'text': data.text[j]})            \n",
    "            writer.writerow([data.id[j], sentiment.get('text'),sentiment.get('polarity'),\n",
    "                         sentiment.get('polarity_confidence'),sentiment.get('subjectivity'),sentiment.get('subjectivity_confidence')])\n",
    "            \n",
    "        time.sleep(second)"
   ]
  },
  {
   "cell_type": "code",
   "execution_count": 7,
   "metadata": {
    "scrolled": true
   },
   "outputs": [
    {
     "data": {
      "text/html": [
       "<div>\n",
       "<style>\n",
       "    .dataframe thead tr:only-child th {\n",
       "        text-align: right;\n",
       "    }\n",
       "\n",
       "    .dataframe thead th {\n",
       "        text-align: left;\n",
       "    }\n",
       "\n",
       "    .dataframe tbody tr th {\n",
       "        vertical-align: top;\n",
       "    }\n",
       "</style>\n",
       "<table border=\"1\" class=\"dataframe\">\n",
       "  <thead>\n",
       "    <tr style=\"text-align: right;\">\n",
       "      <th></th>\n",
       "      <th>id</th>\n",
       "      <th>text</th>\n",
       "      <th>polarity</th>\n",
       "      <th>polarity_confidence</th>\n",
       "      <th>subjectivity</th>\n",
       "      <th>subjectivity_confidence</th>\n",
       "    </tr>\n",
       "  </thead>\n",
       "  <tbody>\n",
       "    <tr>\n",
       "      <th>0</th>\n",
       "      <td>952683598699778048</td>\n",
       "      <td>#2: Digital Phone Tripod, Portable And Adjusta...</td>\n",
       "      <td>neutral</td>\n",
       "      <td>0.983312</td>\n",
       "      <td>objective</td>\n",
       "      <td>1.000000</td>\n",
       "    </tr>\n",
       "    <tr>\n",
       "      <th>1</th>\n",
       "      <td>948570515085713408</td>\n",
       "      <td>It's 10 AM and my iPhone 7 battery is already ...</td>\n",
       "      <td>negative</td>\n",
       "      <td>0.894631</td>\n",
       "      <td>subjective</td>\n",
       "      <td>1.000000</td>\n",
       "    </tr>\n",
       "    <tr>\n",
       "      <th>2</th>\n",
       "      <td>945970348436094977</td>\n",
       "      <td>Apple launched three phones this year: the bez...</td>\n",
       "      <td>positive</td>\n",
       "      <td>0.492551</td>\n",
       "      <td>subjective</td>\n",
       "      <td>1.000000</td>\n",
       "    </tr>\n",
       "    <tr>\n",
       "      <th>3</th>\n",
       "      <td>953243729376301056</td>\n",
       "      <td>EE has fresh Galaxy S8, iPhone 7 and Pixel 2 d...</td>\n",
       "      <td>neutral</td>\n",
       "      <td>0.896892</td>\n",
       "      <td>objective</td>\n",
       "      <td>0.999983</td>\n",
       "    </tr>\n",
       "    <tr>\n",
       "      <th>4</th>\n",
       "      <td>914963779938603008</td>\n",
       "      <td>I hate the idea of not being able to charge ur...</td>\n",
       "      <td>negative</td>\n",
       "      <td>0.989329</td>\n",
       "      <td>subjective</td>\n",
       "      <td>1.000000</td>\n",
       "    </tr>\n",
       "  </tbody>\n",
       "</table>\n",
       "</div>"
      ],
      "text/plain": [
       "                   id                                               text  \\\n",
       "0  952683598699778048  #2: Digital Phone Tripod, Portable And Adjusta...   \n",
       "1  948570515085713408  It's 10 AM and my iPhone 7 battery is already ...   \n",
       "2  945970348436094977  Apple launched three phones this year: the bez...   \n",
       "3  953243729376301056  EE has fresh Galaxy S8, iPhone 7 and Pixel 2 d...   \n",
       "4  914963779938603008  I hate the idea of not being able to charge ur...   \n",
       "\n",
       "   polarity  polarity_confidence subjectivity  subjectivity_confidence  \n",
       "0   neutral             0.983312    objective                 1.000000  \n",
       "1  negative             0.894631   subjective                 1.000000  \n",
       "2  positive             0.492551   subjective                 1.000000  \n",
       "3   neutral             0.896892    objective                 0.999983  \n",
       "4  negative             0.989329   subjective                 1.000000  "
      ]
     },
     "execution_count": 7,
     "metadata": {},
     "output_type": "execute_result"
    }
   ],
   "source": [
    "sentiment_data = pd.read_csv(file_path_save,encoding='utf-8')\n",
    "sentiment_data.head()"
   ]
  }
 ],
 "metadata": {
  "kernelspec": {
   "display_name": "Python 3",
   "language": "python",
   "name": "python3"
  },
  "language_info": {
   "codemirror_mode": {
    "name": "ipython",
    "version": 3
   },
   "file_extension": ".py",
   "mimetype": "text/x-python",
   "name": "python",
   "nbconvert_exporter": "python",
   "pygments_lexer": "ipython3",
   "version": "3.6.1"
  }
 },
 "nbformat": 4,
 "nbformat_minor": 2
}
