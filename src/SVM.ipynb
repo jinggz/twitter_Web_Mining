{
 "cells": [
  {
   "cell_type": "code",
   "execution_count": 25,
   "metadata": {
    "scrolled": true
   },
   "outputs": [
    {
     "data": {
      "text/html": [
       "<div>\n",
       "<style scoped>\n",
       "    .dataframe tbody tr th:only-of-type {\n",
       "        vertical-align: middle;\n",
       "    }\n",
       "\n",
       "    .dataframe tbody tr th {\n",
       "        vertical-align: top;\n",
       "    }\n",
       "\n",
       "    .dataframe thead th {\n",
       "        text-align: right;\n",
       "    }\n",
       "</style>\n",
       "<table border=\"1\" class=\"dataframe\">\n",
       "  <thead>\n",
       "    <tr style=\"text-align: right;\">\n",
       "      <th></th>\n",
       "      <th>id</th>\n",
       "      <th>text</th>\n",
       "      <th>polarity</th>\n",
       "      <th>polarity_confidence</th>\n",
       "      <th>subjectivity</th>\n",
       "      <th>subjectivity_confidence</th>\n",
       "    </tr>\n",
       "  </thead>\n",
       "  <tbody>\n",
       "    <tr>\n",
       "      <th>0</th>\n",
       "      <td>930830962757455000</td>\n",
       "      <td>Any phone with a lot of gb and available for a...</td>\n",
       "      <td>positive</td>\n",
       "      <td>0.578184127807617</td>\n",
       "      <td>subjective</td>\n",
       "      <td>1</td>\n",
       "    </tr>\n",
       "    <tr>\n",
       "      <th>1</th>\n",
       "      <td>977958263269474000</td>\n",
       "      <td>@ SamsungMobileIN @ DoT_India New Samsung OS u...</td>\n",
       "      <td>negative</td>\n",
       "      <td>0.937839031219482</td>\n",
       "      <td>subjective</td>\n",
       "      <td>1</td>\n",
       "    </tr>\n",
       "    <tr>\n",
       "      <th>2</th>\n",
       "      <td>968617998096457000</td>\n",
       "      <td>Samsung? No they aren't and any thoughts of th...</td>\n",
       "      <td>negative</td>\n",
       "      <td>0.897110342979431</td>\n",
       "      <td>subjective</td>\n",
       "      <td>1</td>\n",
       "    </tr>\n",
       "    <tr>\n",
       "      <th>3</th>\n",
       "      <td>978014137262465000</td>\n",
       "      <td>I didn’t mean that to neglect the people on bu...</td>\n",
       "      <td>neutral</td>\n",
       "      <td>0.43565747141838</td>\n",
       "      <td>subjective</td>\n",
       "      <td>1</td>\n",
       "    </tr>\n",
       "    <tr>\n",
       "      <th>4</th>\n",
       "      <td>915900425408270000</td>\n",
       "      <td>@ DocThompsonShow @ TheBlazeKeith # WhatILearn...</td>\n",
       "      <td>positive</td>\n",
       "      <td>0.799633145332336</td>\n",
       "      <td>subjective</td>\n",
       "      <td>1</td>\n",
       "    </tr>\n",
       "  </tbody>\n",
       "</table>\n",
       "</div>"
      ],
      "text/plain": [
       "                   id                                               text  \\\n",
       "0  930830962757455000  Any phone with a lot of gb and available for a...   \n",
       "1  977958263269474000  @ SamsungMobileIN @ DoT_India New Samsung OS u...   \n",
       "2  968617998096457000  Samsung? No they aren't and any thoughts of th...   \n",
       "3  978014137262465000  I didn’t mean that to neglect the people on bu...   \n",
       "4  915900425408270000  @ DocThompsonShow @ TheBlazeKeith # WhatILearn...   \n",
       "\n",
       "   polarity polarity_confidence subjectivity subjectivity_confidence  \n",
       "0  positive   0.578184127807617   subjective                       1  \n",
       "1  negative   0.937839031219482   subjective                       1  \n",
       "2  negative   0.897110342979431   subjective                       1  \n",
       "3   neutral    0.43565747141838   subjective                       1  \n",
       "4  positive   0.799633145332336   subjective                       1  "
      ]
     },
     "execution_count": 25,
     "metadata": {},
     "output_type": "execute_result"
    }
   ],
   "source": [
    "import pandas as pd\n",
    "tweets = pd.read_csv('Samsung_final_brand_cleaned_subset_annotated_complete_finl.csv', sep=',')\n",
    "tweets.head()\n",
    "#display(len(data))"
   ]
  },
  {
   "cell_type": "code",
   "execution_count": 26,
   "metadata": {},
   "outputs": [
    {
     "data": {
      "text/plain": [
       "neutral     5581\n",
       "negative    3506\n",
       "positive    3320\n",
       "polarity       3\n",
       "Name: polarity, dtype: int64"
      ]
     },
     "execution_count": 26,
     "metadata": {},
     "output_type": "execute_result"
    }
   ],
   "source": [
    "tweets.polarity.value_counts()"
   ]
  },
  {
   "cell_type": "code",
   "execution_count": 28,
   "metadata": {},
   "outputs": [],
   "source": [
    "tweets.drop(['id','polarity_confidence','subjectivity_confidence','subjectivity'],axis=1,inplace=True)"
   ]
  },
  {
   "cell_type": "code",
   "execution_count": 9,
   "metadata": {
    "scrolled": true
   },
   "outputs": [],
   "source": [
    "from nltk.corpus import stopwords\n",
    "from nltk import word_tokenize\n",
    "import string\n",
    "import codecs\n",
    "import csv\n",
    "import nltk\n",
    "#nltk.download('wordnet')\n",
    "from nltk.stem.wordnet import WordNetLemmatizer\n",
    "lem = WordNetLemmatizer()\n",
    "\n",
    "with codecs.open('sentiment_samsung_preprocessed.csv', 'w', 'utf-8') as csv_file:\n",
    "    writer = csv.writer(csv_file)\n",
    "    writer.writerow(['id', 'text','polarity'])\n",
    "    for i in range(len(tweets)):\n",
    "        text = (tweets['text'].astype(str))[i].lower()\n",
    "\n",
    "        textSplit = [word for word in word_tokenize(text) if word not in set(stopwords.words('english'))]\n",
    "        noPunc = [word for word in str(textSplit) if word not in string.punctuation]\n",
    "        tokens = ''.join(noPunc)\n",
    "        #alpha = re.sub(\"[^a-zA-Z]\", ' ',str(textSplit))\n",
    "        wordStem = [word for word in lem.lemmatize(tokens)]\n",
    "        wordString = ''.join(wordStem)\n",
    "        writer.writerow([tweets.id[i], wordString,tweets.polarity[i]]) "
   ]
  },
  {
   "cell_type": "code",
   "execution_count": 47,
   "metadata": {},
   "outputs": [
    {
     "data": {
      "text/html": [
       "<div>\n",
       "<style scoped>\n",
       "    .dataframe tbody tr th:only-of-type {\n",
       "        vertical-align: middle;\n",
       "    }\n",
       "\n",
       "    .dataframe tbody tr th {\n",
       "        vertical-align: top;\n",
       "    }\n",
       "\n",
       "    .dataframe thead th {\n",
       "        text-align: right;\n",
       "    }\n",
       "</style>\n",
       "<table border=\"1\" class=\"dataframe\">\n",
       "  <thead>\n",
       "    <tr style=\"text-align: right;\">\n",
       "      <th></th>\n",
       "      <th>id</th>\n",
       "      <th>text</th>\n",
       "      <th>polarity</th>\n",
       "    </tr>\n",
       "  </thead>\n",
       "  <tbody>\n",
       "    <tr>\n",
       "      <th>0</th>\n",
       "      <td>930830962757455000</td>\n",
       "      <td>phone lot gb available carrier  prefer samsung...</td>\n",
       "      <td>positive</td>\n",
       "    </tr>\n",
       "    <tr>\n",
       "      <th>1</th>\n",
       "      <td>977958263269474000</td>\n",
       "      <td>samsungmobilein  dotindia new samsung os upgr...</td>\n",
       "      <td>negative</td>\n",
       "    </tr>\n",
       "    <tr>\n",
       "      <th>2</th>\n",
       "      <td>968617998096457000</td>\n",
       "      <td>samsung  nt thoughts happening either pure spe...</td>\n",
       "      <td>negative</td>\n",
       "    </tr>\n",
       "  </tbody>\n",
       "</table>\n",
       "</div>"
      ],
      "text/plain": [
       "                   id                                               text  \\\n",
       "0  930830962757455000  phone lot gb available carrier  prefer samsung...   \n",
       "1  977958263269474000   samsungmobilein  dotindia new samsung os upgr...   \n",
       "2  968617998096457000  samsung  nt thoughts happening either pure spe...   \n",
       "\n",
       "   polarity  \n",
       "0  positive  \n",
       "1  negative  \n",
       "2  negative  "
      ]
     },
     "execution_count": 47,
     "metadata": {},
     "output_type": "execute_result"
    }
   ],
   "source": [
    "tweets_preprocessed = pd.read_csv('sentiment_samsung_preprocessed.csv')\n",
    "tweets_preprocessed.head(3)"
   ]
  },
  {
   "cell_type": "code",
   "execution_count": 48,
   "metadata": {},
   "outputs": [],
   "source": [
    "for i in range(0, len(tweets_preprocessed)):\n",
    "    if  tweets_preprocessed.loc[i]['polarity'] == 'positive':\n",
    "        tweets_preprocessed.at[i, 'sentiment'] = 1\n",
    "    elif tweets_preprocessed.loc[i]['polarity'] == 'negative':\n",
    "        tweets_preprocessed.at[i, 'sentiment'] = -1\n",
    "    else:\n",
    "        tweets_preprocessed.at[i, 'sentiment'] = 0"
   ]
  },
  {
   "cell_type": "code",
   "execution_count": 60,
   "metadata": {},
   "outputs": [
    {
     "data": {
      "text/html": [
       "<div>\n",
       "<style scoped>\n",
       "    .dataframe tbody tr th:only-of-type {\n",
       "        vertical-align: middle;\n",
       "    }\n",
       "\n",
       "    .dataframe tbody tr th {\n",
       "        vertical-align: top;\n",
       "    }\n",
       "\n",
       "    .dataframe thead th {\n",
       "        text-align: right;\n",
       "    }\n",
       "</style>\n",
       "<table border=\"1\" class=\"dataframe\">\n",
       "  <thead>\n",
       "    <tr style=\"text-align: right;\">\n",
       "      <th></th>\n",
       "      <th>id</th>\n",
       "      <th>text</th>\n",
       "      <th>polarity</th>\n",
       "      <th>sentiment</th>\n",
       "    </tr>\n",
       "  </thead>\n",
       "  <tbody>\n",
       "    <tr>\n",
       "      <th>0</th>\n",
       "      <td>930830962757455000</td>\n",
       "      <td>phone lot gb available carrier  prefer samsung...</td>\n",
       "      <td>positive</td>\n",
       "      <td>1.0</td>\n",
       "    </tr>\n",
       "    <tr>\n",
       "      <th>1</th>\n",
       "      <td>977958263269474000</td>\n",
       "      <td>samsungmobilein  dotindia new samsung os upgr...</td>\n",
       "      <td>negative</td>\n",
       "      <td>-1.0</td>\n",
       "    </tr>\n",
       "    <tr>\n",
       "      <th>2</th>\n",
       "      <td>968617998096457000</td>\n",
       "      <td>samsung  nt thoughts happening either pure spe...</td>\n",
       "      <td>negative</td>\n",
       "      <td>-1.0</td>\n",
       "    </tr>\n",
       "    <tr>\n",
       "      <th>3</th>\n",
       "      <td>978014137262465000</td>\n",
       "      <td>’ mean neglect people referring innovation  ke...</td>\n",
       "      <td>neutral</td>\n",
       "      <td>0.0</td>\n",
       "    </tr>\n",
       "    <tr>\n",
       "      <th>4</th>\n",
       "      <td>915900425408270000</td>\n",
       "      <td>docthompsonshow  theblazekeith  whatilearnedt...</td>\n",
       "      <td>positive</td>\n",
       "      <td>1.0</td>\n",
       "    </tr>\n",
       "  </tbody>\n",
       "</table>\n",
       "</div>"
      ],
      "text/plain": [
       "                   id                                               text  \\\n",
       "0  930830962757455000  phone lot gb available carrier  prefer samsung...   \n",
       "1  977958263269474000   samsungmobilein  dotindia new samsung os upgr...   \n",
       "2  968617998096457000  samsung  nt thoughts happening either pure spe...   \n",
       "3  978014137262465000  ’ mean neglect people referring innovation  ke...   \n",
       "4  915900425408270000   docthompsonshow  theblazekeith  whatilearnedt...   \n",
       "\n",
       "   polarity  sentiment  \n",
       "0  positive        1.0  \n",
       "1  negative       -1.0  \n",
       "2  negative       -1.0  \n",
       "3   neutral        0.0  \n",
       "4  positive        1.0  "
      ]
     },
     "execution_count": 60,
     "metadata": {},
     "output_type": "execute_result"
    }
   ],
   "source": [
    "tweets_preprocessed.head()"
   ]
  },
  {
   "cell_type": "code",
   "execution_count": 85,
   "metadata": {},
   "outputs": [],
   "source": [
    "tweets_preprocessed_posNeg =tweets_preprocessed[(tweets_preprocessed.sentiment == 1.0) | (tweets_preprocessed.sentiment == -1.0)]"
   ]
  },
  {
   "cell_type": "code",
   "execution_count": 86,
   "metadata": {},
   "outputs": [],
   "source": [
    "from sklearn.feature_extraction.text import CountVectorizer, TfidfTransformer\n",
    "from sklearn.linear_model import LogisticRegression\n",
    "from sklearn.svm import SVC\n",
    "from sklearn.model_selection import train_test_split, StratifiedKFold, cross_val_score\n",
    "from sklearn.pipeline import make_pipeline, Pipeline\n",
    "from sklearn.model_selection import GridSearchCV\n",
    "from sklearn.metrics import make_scorer, accuracy_score, f1_score\n",
    "from sklearn.metrics import roc_curve, auc\n",
    "from sklearn.metrics import confusion_matrix, roc_auc_score, recall_score, precision_score"
   ]
  },
  {
   "cell_type": "code",
   "execution_count": 87,
   "metadata": {},
   "outputs": [],
   "source": [
    "train, test = train_test_split(tweets_preprocessed_posNeg, test_size=0.2, random_state=1)\n",
    "X_train = train['text'].values\n",
    "X_test = test['text'].values\n",
    "y_train = train['sentiment']\n",
    "y_test = test['sentiment']"
   ]
  },
  {
   "cell_type": "code",
   "execution_count": 88,
   "metadata": {},
   "outputs": [],
   "source": [
    "vectorizer = CountVectorizer(\n",
    "    analyzer = 'word',\n",
    "    lowercase = True,\n",
    "    ngram_range=(1, 1))"
   ]
  },
  {
   "cell_type": "code",
   "execution_count": 89,
   "metadata": {},
   "outputs": [],
   "source": [
    "kfolds = StratifiedKFold(n_splits=5, shuffle=True, random_state=1)"
   ]
  },
  {
   "cell_type": "code",
   "execution_count": 90,
   "metadata": {},
   "outputs": [
    {
     "name": "stdout",
     "output_type": "stream",
     "text": [
      "Fitting 5 folds for each of 3 candidates, totalling 15 fits\n"
     ]
    },
    {
     "name": "stderr",
     "output_type": "stream",
     "text": [
      "[Parallel(n_jobs=-1)]: Done  15 out of  15 | elapsed:  1.8min finished\n"
     ]
    },
    {
     "data": {
      "text/plain": [
       "0.8791049705746101"
      ]
     },
     "execution_count": 90,
     "metadata": {},
     "output_type": "execute_result"
    }
   ],
   "source": [
    "import numpy as np\n",
    "np.random.seed(1)\n",
    "\n",
    "pipeline_svm = make_pipeline(vectorizer, \n",
    "                            SVC(probability=True, kernel=\"linear\", class_weight=\"balanced\"))\n",
    "\n",
    "grid_svm = GridSearchCV(pipeline_svm,\n",
    "                    param_grid = {'svc__C': [0.01, 0.1, 1]}, \n",
    "                    cv = kfolds,\n",
    "                    scoring=\"roc_auc\",\n",
    "                    verbose=1,   \n",
    "                    n_jobs=-1) \n",
    "\n",
    "grid_svm.fit(X_train, y_train)\n",
    "grid_svm.score(X_test, y_test)"
   ]
  },
  {
   "cell_type": "code",
   "execution_count": 68,
   "metadata": {},
   "outputs": [
    {
     "data": {
      "text/plain": [
       "{'svc__C': 0.1}"
      ]
     },
     "execution_count": 68,
     "metadata": {},
     "output_type": "execute_result"
    }
   ],
   "source": [
    "grid_svm.best_params_"
   ]
  },
  {
   "cell_type": "code",
   "execution_count": 69,
   "metadata": {},
   "outputs": [
    {
     "data": {
      "text/plain": [
       "0.8829776512982763"
      ]
     },
     "execution_count": 69,
     "metadata": {},
     "output_type": "execute_result"
    }
   ],
   "source": [
    "grid_svm.best_score_"
   ]
  },
  {
   "cell_type": "code",
   "execution_count": 70,
   "metadata": {},
   "outputs": [],
   "source": [
    "def report_results(model, X, y):\n",
    "    pred_proba = model.predict_proba(X)[:, 1]\n",
    "    pred = model.predict(X)        \n",
    "\n",
    "    auc = roc_auc_score(y, pred_proba)\n",
    "    acc = accuracy_score(y, pred)\n",
    "    f1 = f1_score(y, pred)\n",
    "    prec = precision_score(y, pred)\n",
    "    rec = recall_score(y, pred)\n",
    "    result = {'auc': auc, 'f1': f1, 'acc': acc, 'precision': prec, 'recall': rec}\n",
    "    return result"
   ]
  },
  {
   "cell_type": "code",
   "execution_count": 71,
   "metadata": {},
   "outputs": [
    {
     "data": {
      "text/plain": [
       "{'auc': 0.8790985364514524,\n",
       " 'f1': 0.7962962962962963,\n",
       " 'acc': 0.8067349926793558,\n",
       " 'precision': 0.821656050955414,\n",
       " 'recall': 0.7724550898203593}"
      ]
     },
     "execution_count": 71,
     "metadata": {},
     "output_type": "execute_result"
    }
   ],
   "source": [
    "report_results(grid_svm.best_estimator_, X_test, y_test)"
   ]
  },
  {
   "cell_type": "code",
   "execution_count": 103,
   "metadata": {},
   "outputs": [
    {
     "data": {
      "text/plain": [
       "array([1.])"
      ]
     },
     "execution_count": 103,
     "metadata": {},
     "output_type": "execute_result"
    }
   ],
   "source": [
    "grid_svm.predict([\"with samsung is always a great experience\"])"
   ]
  },
  {
   "cell_type": "code",
   "execution_count": 104,
   "metadata": {},
   "outputs": [
    {
     "data": {
      "text/plain": [
       "array([-1.])"
      ]
     },
     "execution_count": 104,
     "metadata": {},
     "output_type": "execute_result"
    }
   ],
   "source": [
    "grid_svm.predict([\"worst experience\"])"
   ]
  },
  {
   "cell_type": "code",
   "execution_count": 107,
   "metadata": {},
   "outputs": [
    {
     "data": {
      "text/plain": [
       "0.8982222090632392"
      ]
     },
     "execution_count": 107,
     "metadata": {},
     "output_type": "execute_result"
    }
   ],
   "source": [
    "grid_svm.predict_proba([\"Any phone with a lot of gb and available for any carrier, but I prefer Samsung! I know you will do the best of the best in whatever you choose\"])[-1][1]"
   ]
  },
  {
   "cell_type": "code",
   "execution_count": null,
   "metadata": {},
   "outputs": [],
   "source": []
  }
 ],
 "metadata": {
  "kernelspec": {
   "display_name": "Python 3",
   "language": "python",
   "name": "python3"
  },
  "language_info": {
   "codemirror_mode": {
    "name": "ipython",
    "version": 3
   },
   "file_extension": ".py",
   "mimetype": "text/x-python",
   "name": "python",
   "nbconvert_exporter": "python",
   "pygments_lexer": "ipython3",
   "version": "3.6.5"
  }
 },
 "nbformat": 4,
 "nbformat_minor": 2
}
