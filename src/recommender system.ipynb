{
 "cells": [
  {
   "cell_type": "code",
   "execution_count": 33,
   "metadata": {},
   "outputs": [
    {
     "data": {
      "text/html": [
       "<div>\n",
       "<style scoped>\n",
       "    .dataframe tbody tr th:only-of-type {\n",
       "        vertical-align: middle;\n",
       "    }\n",
       "\n",
       "    .dataframe tbody tr th {\n",
       "        vertical-align: top;\n",
       "    }\n",
       "\n",
       "    .dataframe thead th {\n",
       "        text-align: right;\n",
       "    }\n",
       "</style>\n",
       "<table border=\"1\" class=\"dataframe\">\n",
       "  <thead>\n",
       "    <tr style=\"text-align: right;\">\n",
       "      <th></th>\n",
       "      <th>id</th>\n",
       "      <th>date</th>\n",
       "      <th>text_original</th>\n",
       "      <th>permalink</th>\n",
       "      <th>Brand</th>\n",
       "      <th>text_preprocessed</th>\n",
       "      <th>polarity</th>\n",
       "      <th>polarity_confidence</th>\n",
       "      <th>subjectivity</th>\n",
       "      <th>subjectivity_confidence</th>\n",
       "      <th>polarityNum</th>\n",
       "    </tr>\n",
       "  </thead>\n",
       "  <tbody>\n",
       "    <tr>\n",
       "      <th>0</th>\n",
       "      <td>925495649730117632</td>\n",
       "      <td>2017-10-31 23:52</td>\n",
       "      <td># phone gear Anti Gravity Casing for iPhone an...</td>\n",
       "      <td>https://twitter.com/MyPhoneMyWorld/status/9254...</td>\n",
       "      <td>Samsung</td>\n",
       "      <td>phone gear anti gravity casing iphone samsung ...</td>\n",
       "      <td>neutral</td>\n",
       "      <td>0.972387</td>\n",
       "      <td>objective</td>\n",
       "      <td>0.999999</td>\n",
       "      <td>0</td>\n",
       "    </tr>\n",
       "    <tr>\n",
       "      <th>1</th>\n",
       "      <td>925490587402465280</td>\n",
       "      <td>2017-10-31 23:32</td>\n",
       "      <td>Went to the cell phone repair place and they s...</td>\n",
       "      <td>https://twitter.com/SinamonLance/status/925490...</td>\n",
       "      <td>Samsung</td>\n",
       "      <td>went cell phone repair place said d need conta...</td>\n",
       "      <td>negative</td>\n",
       "      <td>0.785670</td>\n",
       "      <td>subjective</td>\n",
       "      <td>1.000000</td>\n",
       "      <td>-1</td>\n",
       "    </tr>\n",
       "    <tr>\n",
       "      <th>2</th>\n",
       "      <td>925476232380145664</td>\n",
       "      <td>2017-10-31 22:35</td>\n",
       "      <td>Great uses for \"defunct\" phones. The \"reuse\" p...</td>\n",
       "      <td>https://twitter.com/cosmo_nz/status/9254762323...</td>\n",
       "      <td>Samsung</td>\n",
       "      <td>great us defunct phone reuse part reuse reduce...</td>\n",
       "      <td>neutral</td>\n",
       "      <td>0.664289</td>\n",
       "      <td>objective</td>\n",
       "      <td>0.999453</td>\n",
       "      <td>0</td>\n",
       "    </tr>\n",
       "    <tr>\n",
       "      <th>3</th>\n",
       "      <td>925473978625548288</td>\n",
       "      <td>2017-10-31 22:26</td>\n",
       "      <td>Samsung Galaxy A5 2018 Full Phone Specificatio...</td>\n",
       "      <td>https://twitter.com/entclassblog/status/925473...</td>\n",
       "      <td>Samsung</td>\n",
       "      <td>samsung galaxy full phone specification price ...</td>\n",
       "      <td>neutral</td>\n",
       "      <td>0.865111</td>\n",
       "      <td>objective</td>\n",
       "      <td>1.000000</td>\n",
       "      <td>0</td>\n",
       "    </tr>\n",
       "    <tr>\n",
       "      <th>4</th>\n",
       "      <td>925472949150380032</td>\n",
       "      <td>2017-10-31 22:22</td>\n",
       "      <td>damn, and with Apple breaking their iOS, samsu...</td>\n",
       "      <td>https://twitter.com/mcdroidgame/status/9254729...</td>\n",
       "      <td>Samsung</td>\n",
       "      <td>damn apple breaking io samsung overloading cra...</td>\n",
       "      <td>negative</td>\n",
       "      <td>0.494093</td>\n",
       "      <td>subjective</td>\n",
       "      <td>0.999850</td>\n",
       "      <td>-1</td>\n",
       "    </tr>\n",
       "  </tbody>\n",
       "</table>\n",
       "</div>"
      ],
      "text/plain": [
       "                   id              date  \\\n",
       "0  925495649730117632  2017-10-31 23:52   \n",
       "1  925490587402465280  2017-10-31 23:32   \n",
       "2  925476232380145664  2017-10-31 22:35   \n",
       "3  925473978625548288  2017-10-31 22:26   \n",
       "4  925472949150380032  2017-10-31 22:22   \n",
       "\n",
       "                                       text_original  \\\n",
       "0  # phone gear Anti Gravity Casing for iPhone an...   \n",
       "1  Went to the cell phone repair place and they s...   \n",
       "2  Great uses for \"defunct\" phones. The \"reuse\" p...   \n",
       "3  Samsung Galaxy A5 2018 Full Phone Specificatio...   \n",
       "4  damn, and with Apple breaking their iOS, samsu...   \n",
       "\n",
       "                                           permalink    Brand  \\\n",
       "0  https://twitter.com/MyPhoneMyWorld/status/9254...  Samsung   \n",
       "1  https://twitter.com/SinamonLance/status/925490...  Samsung   \n",
       "2  https://twitter.com/cosmo_nz/status/9254762323...  Samsung   \n",
       "3  https://twitter.com/entclassblog/status/925473...  Samsung   \n",
       "4  https://twitter.com/mcdroidgame/status/9254729...  Samsung   \n",
       "\n",
       "                                   text_preprocessed  polarity  \\\n",
       "0  phone gear anti gravity casing iphone samsung ...   neutral   \n",
       "1  went cell phone repair place said d need conta...  negative   \n",
       "2  great us defunct phone reuse part reuse reduce...   neutral   \n",
       "3  samsung galaxy full phone specification price ...   neutral   \n",
       "4  damn apple breaking io samsung overloading cra...  negative   \n",
       "\n",
       "   polarity_confidence subjectivity  subjectivity_confidence  polarityNum  \n",
       "0             0.972387    objective                 0.999999            0  \n",
       "1             0.785670   subjective                 1.000000           -1  \n",
       "2             0.664289    objective                 0.999453            0  \n",
       "3             0.865111    objective                 1.000000            0  \n",
       "4             0.494093   subjective                 0.999850           -1  "
      ]
     },
     "execution_count": 33,
     "metadata": {},
     "output_type": "execute_result"
    }
   ],
   "source": [
    "import pandas as pd\n",
    "tweets = pd.read_excel('Merged_final.xlsx')\n",
    "tweets.head()"
   ]
  },
  {
   "cell_type": "code",
   "execution_count": 55,
   "metadata": {},
   "outputs": [],
   "source": [
    "tweets_pos =tweets[(tweets.polarityNum == 1.0)]"
   ]
  },
  {
   "cell_type": "code",
   "execution_count": 56,
   "metadata": {},
   "outputs": [],
   "source": [
    "tweets_neg =tweets[(tweets.polarityNum == -1.0)]"
   ]
  },
  {
   "cell_type": "code",
   "execution_count": 58,
   "metadata": {},
   "outputs": [
    {
     "data": {
      "text/plain": [
       "(11097, 15229)"
      ]
     },
     "execution_count": 58,
     "metadata": {},
     "output_type": "execute_result"
    }
   ],
   "source": [
    "from sklearn.feature_extraction.text import TfidfVectorizer\n",
    "\n",
    "#Define a TF-IDF Vectorizer Object. Remove all english stop words such as 'the', 'a'\n",
    "tfidf = TfidfVectorizer()\n",
    "\n",
    "#Replace NaN with an empty string\n",
    "tweets['text_preprocessed'] = tweets_pos['text_preprocessed'].fillna('')\n",
    "\n",
    "#Construct the required TF-IDF matrix by fitting and transforming the data\n",
    "tfidf_matrix_pos = tfidf.fit_transform(tweets_pos['text_preprocessed'])\n",
    "\n",
    "#Output the shape of tfidf_matrix\n",
    "tfidf_matrix_pos.shape"
   ]
  },
  {
   "cell_type": "code",
   "execution_count": null,
   "metadata": {},
   "outputs": [],
   "source": [
    "from sklearn.feature_extraction.text import TfidfVectorizer\n",
    "\n",
    "#Define a TF-IDF Vectorizer Object. Remove all english stop words such as 'the', 'a'\n",
    "tfidf = TfidfVectorizer()\n",
    "\n",
    "#Replace NaN with an empty string\n",
    "tweets['text_preprocessed'] = tweets_pos['text_preprocessed'].fillna('')\n",
    "\n",
    "#Construct the required TF-IDF matrix by fitting and transforming the data\n",
    "tfidf_matrix_pos = tfidf.fit_transform(tweets_pos['text_preprocessed'])\n",
    "\n",
    "#Output the shape of tfidf_matrix\n",
    "tfidf_matrix_pos.shape"
   ]
  },
  {
   "cell_type": "code",
   "execution_count": null,
   "metadata": {},
   "outputs": [],
   "source": [
    "# 23057 different words to describe 22194 different tweets"
   ]
  },
  {
   "cell_type": "code",
   "execution_count": 35,
   "metadata": {},
   "outputs": [],
   "source": [
    "from sklearn.metrics.pairwise import linear_kernel\n",
    "\n",
    "# Compute the cosine similarity matrix\n",
    "cosine_sim = linear_kernel(tfidf_matrix, tfidf_matrix)"
   ]
  },
  {
   "cell_type": "code",
   "execution_count": 37,
   "metadata": {},
   "outputs": [],
   "source": [
    "indices = pd.Series(tweets.index, index=tweets['id']).drop_duplicates()"
   ]
  },
  {
   "cell_type": "code",
   "execution_count": 52,
   "metadata": {},
   "outputs": [],
   "source": [
    "def get_recommendations(id, cosine_sim=cosine_sim):\n",
    "    # Get the index of the movie that matches the title\n",
    "    idx = indices[id]\n",
    "\n",
    "    # Get the pairwsie similarity scores of all movies with that movie\n",
    "    sim_scores = list(enumerate(cosine_sim[idx]))\n",
    "\n",
    "    # Sort the movies based on the similarity scores\n",
    "    sim_scores = sorted(sim_scores, key=lambda x: x[1], reverse=True)\n",
    "\n",
    "    # Get the scores of the 10 most similar movies\n",
    "    sim_scores = sim_scores[-11:-1]\n",
    "\n",
    "    # Get the movie indices\n",
    "    id_indices = [i[0] for i in sim_scores]\n",
    "\n",
    "    # Return the top 10 most similar movies\n",
    "    return tweets['id'].iloc[id_indices]"
   ]
  },
  {
   "cell_type": "code",
   "execution_count": 53,
   "metadata": {},
   "outputs": [
    {
     "data": {
      "text/plain": [
       "4683     934303965952348160\n",
       "7934     928991921569128448\n",
       "8724     927793048775471104\n",
       "9689     925957189205876736\n",
       "11225    946047642634665984\n",
       "19952    968227299928739840\n",
       "21207    967814111206678528\n",
       "24093    963297429146800128\n",
       "27388    976553457711656960\n",
       "28897    974649608394731520\n",
       "Name: id, dtype: int64"
      ]
     },
     "execution_count": 53,
     "metadata": {},
     "output_type": "execute_result"
    }
   ],
   "source": [
    "get_recommendations(925490587402465280)"
   ]
  },
  {
   "cell_type": "code",
   "execution_count": null,
   "metadata": {},
   "outputs": [],
   "source": []
  }
 ],
 "metadata": {
  "kernelspec": {
   "display_name": "Python 3",
   "language": "python",
   "name": "python3"
  },
  "language_info": {
   "codemirror_mode": {
    "name": "ipython",
    "version": 3
   },
   "file_extension": ".py",
   "mimetype": "text/x-python",
   "name": "python",
   "nbconvert_exporter": "python",
   "pygments_lexer": "ipython3",
   "version": "3.6.5"
  }
 },
 "nbformat": 4,
 "nbformat_minor": 2
}
