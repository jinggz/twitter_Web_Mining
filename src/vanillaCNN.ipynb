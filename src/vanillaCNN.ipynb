{
 "cells": [
  {
   "cell_type": "code",
   "execution_count": 13,
   "metadata": {},
   "outputs": [
    {
     "name": "stdout",
     "output_type": "stream",
     "text": [
      "(33294,)\n",
      "(33294,)\n"
     ]
    }
   ],
   "source": [
    "# load data\n",
    "import codecs\n",
    "import pandas as pd\n",
    "import numpy as np\n",
    "\n",
    "dt=pd.read_csv(\"data\\\\Merged_final.csv\", encoding='utf-8',\n",
    "               usecols=['text_preprocessed','polarityNum'],skip_blank_lines=True) # 33295 lines\n",
    "X=np.array(dt['text_preprocessed'])\n",
    "y=np.array(dt['polarityNum']).astype('int')\n",
    "print(X.shape)\n",
    "print(y.shape)\n"
   ]
  },
  {
   "cell_type": "code",
   "execution_count": 15,
   "metadata": {},
   "outputs": [],
   "source": [
    "from  sklearn.model_selection import train_test_split\n",
    "x_train,x_test=train_test_split(X, test_size=0.1, random_state=42)\n",
    "y_train,y_test=train_test_split(y, test_size=0.1, random_state=42)"
   ]
  },
  {
   "cell_type": "code",
   "execution_count": 16,
   "metadata": {},
   "outputs": [
    {
     "name": "stdout",
     "output_type": "stream",
     "text": [
      "Loading data...\n",
      "8989 number of train samples\n"
     ]
    }
   ],
   "source": [
    "# some overview of the data, and change label to numpy arrary\n",
    "import numpy as np\n",
    "print('Loading data...')\n",
    "print(len(x_train), 'number of train samples')\n",
    "\n",
    "max_len=len(max(x_train, key=len))\n",
    "num_classes=3"
   ]
  },
  {
   "cell_type": "code",
   "execution_count": 17,
   "metadata": {},
   "outputs": [],
   "source": [
    "max_len = 100\n",
    "max_word=10000    # original vocab_size=11315"
   ]
  },
  {
   "cell_type": "code",
   "execution_count": 18,
   "metadata": {},
   "outputs": [
    {
     "name": "stderr",
     "output_type": "stream",
     "text": [
      "C:\\Users\\lenovo\\Anaconda3\\lib\\site-packages\\keras\\preprocessing\\text.py:172: UserWarning: The `nb_words` argument in `Tokenizer` has been renamed `num_words`.\n",
      "  warnings.warn('The `nb_words` argument in `Tokenizer` '\n"
     ]
    },
    {
     "name": "stdout",
     "output_type": "stream",
     "text": [
      "Pad sequences (samples x time)\n",
      "x_train shape: (8989, 100)\n",
      "x_test shape: (999, 100)\n"
     ]
    }
   ],
   "source": [
    "## build the char index, uni-gram model\n",
    "from keras.preprocessing.text import Tokenizer\n",
    "tokenizer=Tokenizer(nb_words=max_word,split=\" \")\n",
    "tokenizer.fit_on_texts(x_train)\n",
    "\n",
    "x_train=tokenizer.texts_to_sequences(x_train) # convert to np matrix\n",
    "x_test=tokenizer.texts_to_sequences(x_test)\n",
    "\n",
    "## convert x-train to np array by pad seq to fix the dim\n",
    "from keras.preprocessing import sequence\n",
    "print('Pad sequences (samples x time)')\n",
    "x_train = sequence.pad_sequences(x_train,max_len)\n",
    "x_test = sequence.pad_sequences(x_test,max_len)\n",
    "\n",
    "print('x_train shape:', x_train.shape)\n",
    "print('x_test shape:', x_test.shape)"
   ]
  },
  {
   "cell_type": "code",
   "execution_count": 19,
   "metadata": {},
   "outputs": [
    {
     "name": "stdout",
     "output_type": "stream",
     "text": [
      "Convert class vector to binary class matrix (for use with categorical_crossentropy)\n",
      "y_train shape: (8989, 3)\n",
      "y_test shape: (999, 3)\n"
     ]
    }
   ],
   "source": [
    "import keras\n",
    "print('Convert class vector to binary class matrix '\n",
    "      '(for use with categorical_crossentropy)')\n",
    "y_train = keras.utils.to_categorical(y_train, num_classes)\n",
    "y_test_bi = keras.utils.to_categorical(y_test, num_classes)\n",
    "print('y_train shape:', y_train.shape)\n",
    "print('y_test shape:', y_test_bi.shape)"
   ]
  },
  {
   "cell_type": "markdown",
   "metadata": {},
   "source": [
    "## build model"
   ]
  },
  {
   "cell_type": "markdown",
   "metadata": {},
   "source": [
    "### vanilla CNN"
   ]
  },
  {
   "cell_type": "code",
   "execution_count": 8,
   "metadata": {},
   "outputs": [],
   "source": [
    "from keras.models import Sequential  \n",
    "from keras.models import Model\n",
    "from keras.layers import Input\n",
    "from keras.layers import Dense\n",
    "from keras.layers import Flatten\n",
    "from keras.layers import Dropout,Activation\n",
    "from keras.layers import Embedding\n",
    "from keras.layers import Conv1D, GlobalMaxPooling1D\n",
    "from keras.layers.merge import concatenate"
   ]
  },
  {
   "cell_type": "code",
   "execution_count": 20,
   "metadata": {},
   "outputs": [
    {
     "name": "stdout",
     "output_type": "stream",
     "text": [
      "Build model...\n"
     ]
    }
   ],
   "source": [
    "# vanilla cnn\n",
    "# set parameters:\n",
    "batch_size = 64\n",
    "embedding_dims = 300\n",
    "nb_filters = 128\n",
    "kernel_size = 3\n",
    "hidden_dims = 128\n",
    "\n",
    "\n",
    "print('Build model...')\n",
    "model = Sequential()\n",
    "\n",
    "# we start off with an efficient embedding layer which maps\n",
    "# our vocab indices into embedding_dims dimensions\n",
    "model.add(Embedding(max_word,\n",
    "                    embedding_dims,\n",
    "                    input_length=max_len))\n",
    "          \n",
    "model.add(Dropout(0.2))\n",
    "\n",
    "# we add a Convolution1D, which will learn filters\n",
    "# word group filters of size filter_length:\n",
    "model.add(Conv1D(nb_filters,\n",
    "                 kernel_size,\n",
    "                 activation='relu',\n",
    "                 strides=1))\n",
    "# we use max pooling:\n",
    "model.add(GlobalMaxPooling1D())\n",
    "\n",
    "# We add a vanilla hidden layer:\n",
    "model.add(Dense(hidden_dims))\n",
    "model.add(Dropout(0.2))\n",
    "model.add(Activation('relu'))\n",
    "\n",
    "# We project onto a single unit output layer, and squash it with a sigmoid:\n",
    "model.add(Dense(3))\n",
    "model.add(Activation('softmax'))\n",
    "\n",
    "model.compile('adam', 'categorical_crossentropy', metrics=['accuracy'])\n"
   ]
  },
  {
   "cell_type": "code",
   "execution_count": 21,
   "metadata": {
    "scrolled": true
   },
   "outputs": [
    {
     "name": "stdout",
     "output_type": "stream",
     "text": [
      "Train...\n",
      "_________________________________________________________________\n",
      "Layer (type)                 Output Shape              Param #   \n",
      "=================================================================\n",
      "embedding_2 (Embedding)      (None, 100, 300)          3000000   \n",
      "_________________________________________________________________\n",
      "dropout_3 (Dropout)          (None, 100, 300)          0         \n",
      "_________________________________________________________________\n",
      "conv1d_2 (Conv1D)            (None, 98, 128)           115328    \n",
      "_________________________________________________________________\n",
      "global_max_pooling1d_2 (Glob (None, 128)               0         \n",
      "_________________________________________________________________\n",
      "dense_3 (Dense)              (None, 128)               16512     \n",
      "_________________________________________________________________\n",
      "dropout_4 (Dropout)          (None, 128)               0         \n",
      "_________________________________________________________________\n",
      "activation_3 (Activation)    (None, 128)               0         \n",
      "_________________________________________________________________\n",
      "dense_4 (Dense)              (None, 3)                 387       \n",
      "_________________________________________________________________\n",
      "activation_4 (Activation)    (None, 3)                 0         \n",
      "=================================================================\n",
      "Total params: 3,132,227\n",
      "Trainable params: 3,132,227\n",
      "Non-trainable params: 0\n",
      "_________________________________________________________________\n",
      "None\n",
      "Train on 8090 samples, validate on 899 samples\n",
      "Epoch 1/5\n",
      "8090/8090 [==============================] - 33s 4ms/step - loss: 0.9022 - acc: 0.5724 - val_loss: 0.6954 - val_acc: 0.6941\n",
      "Epoch 2/5\n",
      "8090/8090 [==============================] - 31s 4ms/step - loss: 0.5548 - acc: 0.7744 - val_loss: 0.6547 - val_acc: 0.7197\n",
      "Epoch 3/5\n",
      "8090/8090 [==============================] - 32s 4ms/step - loss: 0.2655 - acc: 0.9121 - val_loss: 0.8036 - val_acc: 0.7008\n",
      "Epoch 4/5\n",
      "8090/8090 [==============================] - 32s 4ms/step - loss: 0.0914 - acc: 0.9744 - val_loss: 0.9236 - val_acc: 0.7119\n"
     ]
    }
   ],
   "source": [
    "num_epochs = 5\n",
    "# fit model\n",
    "print('Train...')\n",
    "print(model.summary())\n",
    "from keras.callbacks import EarlyStopping\n",
    "es=EarlyStopping(monitor='val_loss', min_delta=0, patience=2, verbose=0, mode='auto')\n",
    "from keras.callbacks import ModelCheckpoint\n",
    "mc = ModelCheckpoint('weights.{epoch:02d}-{val_loss:.2f}.hdf5', monitor='val_loss', verbose=0, save_best_only=True, mode='min', period=1)\n",
    "history=model.fit(x_train, y_train, epochs=num_epochs, batch_size=batch_size,validation_split=0.1,callbacks=[es,mc]) #\n",
    "\n"
   ]
  },
  {
   "cell_type": "code",
   "execution_count": 11,
   "metadata": {},
   "outputs": [],
   "source": [
    "#            # save model\n",
    "# from keras.layers import Dense\n",
    "# from keras.models import model_from_json\n",
    "# import numpy\n",
    "# import os\n",
    "# model_json = model.to_json()\n",
    "# with open(wm_vanillacnn.json\", \"w\") as json_file:\n",
    "#     json_file.write(model_json)\n",
    "# # serialize weights to HDF5\n",
    "# model.save_weights(\"wm_vanillacnn.h5\")\n"
   ]
  },
  {
   "cell_type": "code",
   "execution_count": 23,
   "metadata": {},
   "outputs": [
    {
     "name": "stdout",
     "output_type": "stream",
     "text": [
      "999/999 [==============================] - 1s 907us/step\n",
      "Test score: 0.9968377252718111\n",
      "Test accuracy: 0.6856856862823287\n",
      "F1-macro score for 3 classes: 0.6849213644400951\n",
      "             precision    recall  f1-score   support\n",
      "\n",
      "         -1       0.66      0.74      0.70       324\n",
      "          0       0.73      0.61      0.67       331\n",
      "          1       0.68      0.70      0.69       344\n",
      "\n",
      "avg / total       0.69      0.69      0.68       999\n",
      "\n"
     ]
    }
   ],
   "source": [
    "#evaluate\n",
    "score = model.evaluate(x_test, y_test_bi,\n",
    "                       batch_size=batch_size, verbose=1)\n",
    "print('Test score:', score[0])\n",
    "print('Test accuracy:', score[1])\n",
    "\n",
    "y_pred=model.predict(x_test, batch_size=batch_size)\n",
    "y_pred=np.argmax(y_pred, axis=1)\n",
    "np.place(y_pred,y_pred==2,(-1))\n",
    "\n",
    "# with codecs.open(\"output_multichlCnn.txt\",'a',encoding='utf-8') as file:\n",
    "#     for output in outputs:\n",
    "#         file.writeline(output)\n",
    "\n",
    "from sklearn.metrics import f1_score,classification_report\n",
    "print('F1-macro score for 3 classes:', f1_score(y_test,y_pred,average='macro'))\n",
    "print(classification_report(y_test, y_pred))\n"
   ]
  },
  {
   "cell_type": "code",
   "execution_count": null,
   "metadata": {},
   "outputs": [],
   "source": []
  }
 ],
 "metadata": {
  "kernelspec": {
   "display_name": "Python 3",
   "language": "python",
   "name": "python3"
  },
  "language_info": {
   "codemirror_mode": {
    "name": "ipython",
    "version": 3
   },
   "file_extension": ".py",
   "mimetype": "text/x-python",
   "name": "python",
   "nbconvert_exporter": "python",
   "pygments_lexer": "ipython3",
   "version": "3.6.4"
  }
 },
 "nbformat": 4,
 "nbformat_minor": 2
}
