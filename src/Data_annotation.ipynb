{
 "cells": [
  {
   "cell_type": "markdown",
   "metadata": {},
   "source": [
    "# Authenication for annotation api"
   ]
  },
  {
   "cell_type": "code",
   "execution_count": 46,
   "metadata": {},
   "outputs": [],
   "source": [
    "from aylienapiclient import textapi\n",
    "\n",
    "client = textapi.Client(\"app_id\", \"key\")"
   ]
  },
  {
   "cell_type": "markdown",
   "metadata": {},
   "source": [
    "# Import preprocessed file to pandas"
   ]
  },
  {
   "cell_type": "code",
   "execution_count": 47,
   "metadata": {},
   "outputs": [
    {
     "data": {
      "text/html": [
       "<div>\n",
       "<style scoped>\n",
       "    .dataframe tbody tr th:only-of-type {\n",
       "        vertical-align: middle;\n",
       "    }\n",
       "\n",
       "    .dataframe tbody tr th {\n",
       "        vertical-align: top;\n",
       "    }\n",
       "\n",
       "    .dataframe thead th {\n",
       "        text-align: right;\n",
       "    }\n",
       "</style>\n",
       "<table border=\"1\" class=\"dataframe\">\n",
       "  <thead>\n",
       "    <tr style=\"text-align: right;\">\n",
       "      <th></th>\n",
       "      <th>id</th>\n",
       "      <th>date</th>\n",
       "      <th>text</th>\n",
       "      <th>permalink</th>\n",
       "      <th>brand</th>\n",
       "    </tr>\n",
       "  </thead>\n",
       "  <tbody>\n",
       "    <tr>\n",
       "      <th>0</th>\n",
       "      <td>925497583946076160</td>\n",
       "      <td>2017-10-31 23:59</td>\n",
       "      <td>bought erin iphone text shes cant even act lik...</td>\n",
       "      <td>https://twitter.com/briplumleyy/status/9254975...</td>\n",
       "      <td>Iphone</td>\n",
       "    </tr>\n",
       "    <tr>\n",
       "      <th>1</th>\n",
       "      <td>925496783630884864</td>\n",
       "      <td>2017-10-31 23:56</td>\n",
       "      <td>phone gave  lol exactly nov1   sadly new iphon...</td>\n",
       "      <td>https://twitter.com/iamwilliamlim/status/92549...</td>\n",
       "      <td>Iphone</td>\n",
       "    </tr>\n",
       "    <tr>\n",
       "      <th>2</th>\n",
       "      <td>925496398027673600</td>\n",
       "      <td>2017-10-31 23:55</td>\n",
       "      <td>idk let adult ordered iphone x ’ stressin bc h...</td>\n",
       "      <td>https://twitter.com/bethanydc19/status/9254963...</td>\n",
       "      <td>Iphone</td>\n",
       "    </tr>\n",
       "    <tr>\n",
       "      <th>3</th>\n",
       "      <td>925495860590505984</td>\n",
       "      <td>2017-10-31 23:53</td>\n",
       "      <td>may phone finally forces abandon apple  went n...</td>\n",
       "      <td>https://twitter.com/6_Thirteen/status/92549586...</td>\n",
       "      <td>Iphone</td>\n",
       "    </tr>\n",
       "    <tr>\n",
       "      <th>4</th>\n",
       "      <td>925495750515191808</td>\n",
       "      <td>2017-10-31 23:52</td>\n",
       "      <td>seriously considering keeping iphone 6s listen...</td>\n",
       "      <td>https://twitter.com/Chris_Lash/status/92549575...</td>\n",
       "      <td>Iphone</td>\n",
       "    </tr>\n",
       "  </tbody>\n",
       "</table>\n",
       "</div>"
      ],
      "text/plain": [
       "                   id              date  \\\n",
       "0  925497583946076160  2017-10-31 23:59   \n",
       "1  925496783630884864  2017-10-31 23:56   \n",
       "2  925496398027673600  2017-10-31 23:55   \n",
       "3  925495860590505984  2017-10-31 23:53   \n",
       "4  925495750515191808  2017-10-31 23:52   \n",
       "\n",
       "                                                text  \\\n",
       "0  bought erin iphone text shes cant even act lik...   \n",
       "1  phone gave  lol exactly nov1   sadly new iphon...   \n",
       "2  idk let adult ordered iphone x ’ stressin bc h...   \n",
       "3  may phone finally forces abandon apple  went n...   \n",
       "4  seriously considering keeping iphone 6s listen...   \n",
       "\n",
       "                                           permalink   brand  \n",
       "0  https://twitter.com/briplumleyy/status/9254975...  Iphone  \n",
       "1  https://twitter.com/iamwilliamlim/status/92549...  Iphone  \n",
       "2  https://twitter.com/bethanydc19/status/9254963...  Iphone  \n",
       "3  https://twitter.com/6_Thirteen/status/92549586...  Iphone  \n",
       "4  https://twitter.com/Chris_Lash/status/92549575...  Iphone  "
      ]
     },
     "execution_count": 47,
     "metadata": {},
     "output_type": "execute_result"
    }
   ],
   "source": [
    "import pandas as pd\n",
    "data = pd.read_csv('Preprocessed_iphone.csv', sep= ',',encoding='utf-8')\n",
    "data.head()"
   ]
  },
  {
   "cell_type": "markdown",
   "metadata": {},
   "source": [
    "# Extract annotated data from api and store to csv"
   ]
  },
  {
   "cell_type": "code",
   "execution_count": 49,
   "metadata": {},
   "outputs": [],
   "source": [
    "import codecs\n",
    "import csv\n",
    "i=0\n",
    "with codecs.open('sentiment_annotation.csv', 'a', 'utf-8') as csv_file:\n",
    "    writer = csv.writer(csv_file)\n",
    "    writer.writerow(['id','text','polarity','polarity_confidence','subjectivity','subjectivity_confidence'])\n",
    "    \n",
    "    for i in range(60,120):        \n",
    "        sentiment=client.Sentiment({'text': data.text[i]})\n",
    "\n",
    "        writer.writerow([data.id[i], sentiment.get('text'),sentiment.get('polarity'),sentiment.get('polarity_confidence'),sentiment.get('subjectivity'),sentiment.get('subjectivity_confidence')])"
   ]
  },
  {
   "cell_type": "code",
   "execution_count": 43,
   "metadata": {},
   "outputs": [],
   "source": [
    "sentiment_data = pd.read_csv('sentiment_annotation.csv',encoding='utf-8')\n",
    "sentiment_data"
   ]
  }
 ],
 "metadata": {
  "kernelspec": {
   "display_name": "Python 3",
   "language": "python",
   "name": "python3"
  },
  "language_info": {
   "codemirror_mode": {
    "name": "ipython",
    "version": 3
   },
   "file_extension": ".py",
   "mimetype": "text/x-python",
   "name": "python",
   "nbconvert_exporter": "python",
   "pygments_lexer": "ipython3",
   "version": "3.6.5"
  }
 },
 "nbformat": 4,
 "nbformat_minor": 2
}
