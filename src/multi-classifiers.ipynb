{
 "cells": [
  {
   "cell_type": "code",
<<<<<<< HEAD
   "execution_count": 15,
=======
   "execution_count": 2,
>>>>>>> 20c39ecae8b8da1f4711039f53614404ed869542
   "metadata": {},
   "outputs": [
    {
     "data": {
      "text/html": [
       "<div>\n",
       "<style scoped>\n",
       "    .dataframe tbody tr th:only-of-type {\n",
       "        vertical-align: middle;\n",
       "    }\n",
       "\n",
       "    .dataframe tbody tr th {\n",
       "        vertical-align: top;\n",
       "    }\n",
       "\n",
       "    .dataframe thead th {\n",
       "        text-align: right;\n",
       "    }\n",
       "</style>\n",
       "<table border=\"1\" class=\"dataframe\">\n",
       "  <thead>\n",
       "    <tr style=\"text-align: right;\">\n",
       "      <th></th>\n",
       "      <th>Checked</th>\n",
       "      <th>brand</th>\n",
       "      <th>date</th>\n",
       "      <th>id</th>\n",
<<<<<<< HEAD
       "      <th>date</th>\n",
       "      <th>text_original</th>\n",
       "      <th>permalink</th>\n",
       "      <th>text_preprocessed</th>\n",
       "      <th>polarity</th>\n",
       "      <th>polarity_confidence</th>\n",
       "      <th>subjectivity</th>\n",
       "      <th>subjectivity_confidence</th>\n",
       "      <th>polarityNum</th>\n",
       "      <th>brand</th>\n",
=======
       "      <th>permalink</th>\n",
       "      <th>polarity</th>\n",
       "      <th>polarityNum</th>\n",
       "      <th>polarity_confidence</th>\n",
       "      <th>subjectivity</th>\n",
       "      <th>subjectivity_confidence</th>\n",
       "      <th>text_original</th>\n",
       "      <th>text_preprocessed</th>\n",
>>>>>>> 20c39ecae8b8da1f4711039f53614404ed869542
       "    </tr>\n",
       "  </thead>\n",
       "  <tbody>\n",
       "    <tr>\n",
       "      <th>0</th>\n",
<<<<<<< HEAD
       "      <td>948570515085713408</td>\n",
       "      <td>2018-01-03 16:03</td>\n",
       "      <td>It's 10 AM and my iPhone 7 battery is already ...</td>\n",
       "      <td>https://twitter.com/TheScottBeach/status/94857...</td>\n",
       "      <td>s iphone battery already minute phone call tol...</td>\n",
       "      <td>negative</td>\n",
       "      <td>0.894631</td>\n",
       "      <td>subjective</td>\n",
       "      <td>1.0</td>\n",
       "      <td>-1.0</td>\n",
       "      <td>iphone</td>\n",
       "    </tr>\n",
       "    <tr>\n",
       "      <th>1</th>\n",
       "      <td>945970348436094977</td>\n",
       "      <td>2017-12-27 11:51</td>\n",
       "      <td>Apple launched three phones this year: the bez...</td>\n",
       "      <td>https://twitter.com/Today__Tech/status/9459703...</td>\n",
       "      <td>apple launched three phone year bezelbusting i...</td>\n",
       "      <td>positive</td>\n",
       "      <td>0.492551</td>\n",
       "      <td>subjective</td>\n",
       "      <td>1.0</td>\n",
       "      <td>1.0</td>\n",
       "      <td>iphone</td>\n",
       "    </tr>\n",
       "    <tr>\n",
       "      <th>2</th>\n",
       "      <td>951907048035270656</td>\n",
       "      <td>2018-01-12 21:01</td>\n",
       "      <td>Cut one phone completely OFF and my iPhone on ...</td>\n",
       "      <td>https://twitter.com/gods1blessings/status/9519...</td>\n",
       "      <td>cut one phone completely iphone dnd yeah ready...</td>\n",
       "      <td>positive</td>\n",
       "      <td>0.355765</td>\n",
       "      <td>subjective</td>\n",
       "      <td>1.0</td>\n",
       "      <td>1.0</td>\n",
       "      <td>iphone</td>\n",
       "    </tr>\n",
       "    <tr>\n",
       "      <th>3</th>\n",
       "      <td>972090952251670528</td>\n",
       "      <td>2018-03-09 13:45</td>\n",
       "      <td>Do you think Apple iphone x \"notch\" will be th...</td>\n",
       "      <td>https://twitter.com/puspakpatnaik/status/97209...</td>\n",
       "      <td>think apple iphone x notch trend flagship phon...</td>\n",
       "      <td>neutral</td>\n",
       "      <td>0.577812</td>\n",
       "      <td>subjective</td>\n",
       "      <td>1.0</td>\n",
       "      <td>0.0</td>\n",
       "      <td>iphone</td>\n",
       "    </tr>\n",
       "    <tr>\n",
       "      <th>4</th>\n",
       "      <td>958395849737990144</td>\n",
       "      <td>2018-01-30 18:45</td>\n",
       "      <td>Fluffy Bling iPhone Case All Colors in Stock h...</td>\n",
       "      <td>https://twitter.com/IDMD_MIAMI/status/95839584...</td>\n",
       "      <td>fluffy bling iphone case color stock http shop...</td>\n",
       "      <td>positive</td>\n",
       "      <td>0.501405</td>\n",
       "      <td>subjective</td>\n",
       "      <td>1.0</td>\n",
       "      <td>1.0</td>\n",
       "      <td>iphone</td>\n",
=======
       "      <td>1.0</td>\n",
       "      <td>Samsung</td>\n",
       "      <td>2017-10-31 23:52</td>\n",
       "      <td>925495649730117632</td>\n",
       "      <td>https://twitter.com/MyPhoneMyWorld/status/9254...</td>\n",
       "      <td>neutral</td>\n",
       "      <td>0.0</td>\n",
       "      <td>0.972387</td>\n",
       "      <td>objective</td>\n",
       "      <td>0.999999</td>\n",
       "      <td># phone gear Anti Gravity Casing for iPhone an...</td>\n",
       "      <td>phone gear anti gravity casing iphone samsung ...</td>\n",
       "    </tr>\n",
       "    <tr>\n",
       "      <th>1</th>\n",
       "      <td>1.0</td>\n",
       "      <td>Samsung</td>\n",
       "      <td>2017-10-31 23:32</td>\n",
       "      <td>925490587402465280</td>\n",
       "      <td>https://twitter.com/SinamonLance/status/925490...</td>\n",
       "      <td>negative</td>\n",
       "      <td>-1.0</td>\n",
       "      <td>0.785670</td>\n",
       "      <td>subjective</td>\n",
       "      <td>1.000000</td>\n",
       "      <td>Went to the cell phone repair place and they s...</td>\n",
       "      <td>went cell phone repair place said d need conta...</td>\n",
       "    </tr>\n",
       "    <tr>\n",
       "      <th>2</th>\n",
       "      <td>1.0</td>\n",
       "      <td>Samsung</td>\n",
       "      <td>2017-10-31 22:35</td>\n",
       "      <td>925476232380145664</td>\n",
       "      <td>https://twitter.com/cosmo_nz/status/9254762323...</td>\n",
       "      <td>neutral</td>\n",
       "      <td>0.0</td>\n",
       "      <td>0.664289</td>\n",
       "      <td>objective</td>\n",
       "      <td>0.999453</td>\n",
       "      <td>Great uses for \"defunct\" phones. The \"reuse\" p...</td>\n",
       "      <td>great us defunct phone reuse part reuse reduce...</td>\n",
       "    </tr>\n",
       "    <tr>\n",
       "      <th>3</th>\n",
       "      <td>1.0</td>\n",
       "      <td>Samsung</td>\n",
       "      <td>2017-10-31 22:26</td>\n",
       "      <td>925473978625548289</td>\n",
       "      <td>https://twitter.com/entclassblog/status/925473...</td>\n",
       "      <td>neutral</td>\n",
       "      <td>0.0</td>\n",
       "      <td>0.865111</td>\n",
       "      <td>objective</td>\n",
       "      <td>1.000000</td>\n",
       "      <td>Samsung Galaxy A5 2018 Full Phone Specificatio...</td>\n",
       "      <td>samsung galaxy full phone specification price ...</td>\n",
       "    </tr>\n",
       "    <tr>\n",
       "      <th>4</th>\n",
       "      <td>1.0</td>\n",
       "      <td>Samsung</td>\n",
       "      <td>2017-10-31 22:22</td>\n",
       "      <td>925472949150380033</td>\n",
       "      <td>https://twitter.com/mcdroidgame/status/9254729...</td>\n",
       "      <td>negative</td>\n",
       "      <td>-1.0</td>\n",
       "      <td>0.494093</td>\n",
       "      <td>subjective</td>\n",
       "      <td>0.999850</td>\n",
       "      <td>damn, and with Apple breaking their iOS, samsu...</td>\n",
       "      <td>damn apple breaking io samsung overloading cra...</td>\n",
>>>>>>> 20c39ecae8b8da1f4711039f53614404ed869542
       "    </tr>\n",
       "  </tbody>\n",
       "</table>\n",
       "</div>"
      ],
<<<<<<< HEAD
      "text/plain": [
       "                   id              date  \\\n",
       "0  948570515085713408  2018-01-03 16:03   \n",
       "1  945970348436094977  2017-12-27 11:51   \n",
       "2  951907048035270656  2018-01-12 21:01   \n",
       "3  972090952251670528  2018-03-09 13:45   \n",
       "4  958395849737990144  2018-01-30 18:45   \n",
       "\n",
       "                                       text_original  \\\n",
       "0  It's 10 AM and my iPhone 7 battery is already ...   \n",
       "1  Apple launched three phones this year: the bez...   \n",
       "2  Cut one phone completely OFF and my iPhone on ...   \n",
       "3  Do you think Apple iphone x \"notch\" will be th...   \n",
       "4  Fluffy Bling iPhone Case All Colors in Stock h...   \n",
       "\n",
       "                                           permalink  \\\n",
       "0  https://twitter.com/TheScottBeach/status/94857...   \n",
       "1  https://twitter.com/Today__Tech/status/9459703...   \n",
       "2  https://twitter.com/gods1blessings/status/9519...   \n",
       "3  https://twitter.com/puspakpatnaik/status/97209...   \n",
       "4  https://twitter.com/IDMD_MIAMI/status/95839584...   \n",
       "\n",
       "                                   text_preprocessed  polarity  \\\n",
       "0  s iphone battery already minute phone call tol...  negative   \n",
       "1  apple launched three phone year bezelbusting i...  positive   \n",
       "2  cut one phone completely iphone dnd yeah ready...  positive   \n",
       "3  think apple iphone x notch trend flagship phon...   neutral   \n",
       "4  fluffy bling iphone case color stock http shop...  positive   \n",
       "\n",
       "   polarity_confidence subjectivity  subjectivity_confidence  polarityNum  \\\n",
       "0             0.894631   subjective                      1.0         -1.0   \n",
       "1             0.492551   subjective                      1.0          1.0   \n",
       "2             0.355765   subjective                      1.0          1.0   \n",
       "3             0.577812   subjective                      1.0          0.0   \n",
       "4             0.501405   subjective                      1.0          1.0   \n",
       "\n",
       "    brand  \n",
       "0  iphone  \n",
       "1  iphone  \n",
       "2  iphone  \n",
       "3  iphone  \n",
       "4  iphone  "
      ]
     },
     "execution_count": 15,
=======
      "text/plain": [
       "   Checked    brand              date                  id  \\\n",
       "0      1.0  Samsung  2017-10-31 23:52  925495649730117632   \n",
       "1      1.0  Samsung  2017-10-31 23:32  925490587402465280   \n",
       "2      1.0  Samsung  2017-10-31 22:35  925476232380145664   \n",
       "3      1.0  Samsung  2017-10-31 22:26  925473978625548289   \n",
       "4      1.0  Samsung  2017-10-31 22:22  925472949150380033   \n",
       "\n",
       "                                           permalink  polarity  polarityNum  \\\n",
       "0  https://twitter.com/MyPhoneMyWorld/status/9254...   neutral          0.0   \n",
       "1  https://twitter.com/SinamonLance/status/925490...  negative         -1.0   \n",
       "2  https://twitter.com/cosmo_nz/status/9254762323...   neutral          0.0   \n",
       "3  https://twitter.com/entclassblog/status/925473...   neutral          0.0   \n",
       "4  https://twitter.com/mcdroidgame/status/9254729...  negative         -1.0   \n",
       "\n",
       "   polarity_confidence subjectivity  subjectivity_confidence  \\\n",
       "0             0.972387    objective                 0.999999   \n",
       "1             0.785670   subjective                 1.000000   \n",
       "2             0.664289    objective                 0.999453   \n",
       "3             0.865111    objective                 1.000000   \n",
       "4             0.494093   subjective                 0.999850   \n",
       "\n",
       "                                       text_original  \\\n",
       "0  # phone gear Anti Gravity Casing for iPhone an...   \n",
       "1  Went to the cell phone repair place and they s...   \n",
       "2  Great uses for \"defunct\" phones. The \"reuse\" p...   \n",
       "3  Samsung Galaxy A5 2018 Full Phone Specificatio...   \n",
       "4  damn, and with Apple breaking their iOS, samsu...   \n",
       "\n",
       "                                   text_preprocessed  \n",
       "0  phone gear anti gravity casing iphone samsung ...  \n",
       "1  went cell phone repair place said d need conta...  \n",
       "2  great us defunct phone reuse part reuse reduce...  \n",
       "3  samsung galaxy full phone specification price ...  \n",
       "4  damn apple breaking io samsung overloading cra...  "
      ]
     },
     "execution_count": 2,
     "metadata": {},
     "output_type": "execute_result"
    }
   ],
   "source": [
    "import pandas as pd\n",
    "tweets_samsung = pd.read_csv('combined_final_14may.csv')\n",
    "tweets_samsung.head()"
   ]
  },
  {
   "cell_type": "code",
   "execution_count": 3,
   "metadata": {},
   "outputs": [],
   "source": [
    "tweets_PosNeg = tweets_samsung[(tweets_samsung.polarityNum != 0.0)]"
   ]
  },
  {
   "cell_type": "code",
   "execution_count": 3,
   "metadata": {},
   "outputs": [
    {
     "data": {
      "text/plain": [
       "negative    18003\n",
       "positive    17988\n",
       "neutral         2\n",
       "Name: polarity, dtype: int64"
      ]
     },
     "execution_count": 3,
>>>>>>> 20c39ecae8b8da1f4711039f53614404ed869542
     "metadata": {},
     "output_type": "execute_result"
    }
   ],
   "source": [
<<<<<<< HEAD
    "import pandas as pd\n",
    "tweets_samsung = pd.read_csv('iphone_final_14may.csv')\n",
    "tweets_samsung.head()"
   ]
  },
  {
   "cell_type": "code",
   "execution_count": 16,
   "metadata": {},
   "outputs": [],
   "source": [
    "tweets_PosNeg = tweets_samsung[(tweets_samsung.polarityNum != 0.0)]"
=======
    "tweets_PosNeg.polarity.value_counts()"
>>>>>>> 20c39ecae8b8da1f4711039f53614404ed869542
   ]
  },
  {
   "cell_type": "code",
<<<<<<< HEAD
   "execution_count": 3,
   "metadata": {},
   "outputs": [
    {
     "data": {
      "text/plain": [
       "negative    10795\n",
       "positive    10778\n",
       "neutral         2\n",
       "Name: polarity, dtype: int64"
      ]
     },
     "execution_count": 3,
     "metadata": {},
     "output_type": "execute_result"
    }
   ],
   "source": [
    "tweets_PosNeg.polarity.value_counts()"
   ]
  },
  {
   "cell_type": "code",
=======
>>>>>>> 20c39ecae8b8da1f4711039f53614404ed869542
   "execution_count": 4,
   "metadata": {},
   "outputs": [],
   "source": [
    "from sklearn.linear_model import LogisticRegression\n",
    "from sklearn.neighbors import KNeighborsClassifier\n",
    "from sklearn.svm import SVC, LinearSVC, NuSVC\n",
    "from sklearn.tree import DecisionTreeClassifier\n",
    "from sklearn.ensemble import RandomForestClassifier, AdaBoostClassifier, GradientBoostingClassifier , VotingClassifier\n",
    "from sklearn.naive_bayes import BernoulliNB, MultinomialNB\n",
    "from sklearn.metrics import accuracy_score, f1_score\n",
    "from sklearn import model_selection\n",
    "from xgboost.sklearn import XGBClassifier\n",
    "from sklearn.model_selection import train_test_split, cross_val_score\n",
    "from sklearn.feature_extraction.text import CountVectorizer, TfidfVectorizer"
   ]
  },
  {
   "cell_type": "code",
<<<<<<< HEAD
   "execution_count": 19,
   "metadata": {},
   "outputs": [],
   "source": [
    "#80% train data, 10% validation data, 10% test data\n",
    "train, validate_test = train_test_split(tweets_PosNeg, test_size=0.2, random_state=1)\n",
    "validate, test = train_test_split(validate_test, test_size=0.5, random_state=1)\n",
=======
   "execution_count": 5,
   "metadata": {},
   "outputs": [],
   "source": [
    "#60% train data, 20% validation data, 20% test data\n",
    "train_test, validate = train_test_split(tweets_PosNeg, test_size=0.2, random_state=1)\n",
    "train, test = train_test_split(train_test, test_size=0.2, random_state=1)\n",
>>>>>>> 20c39ecae8b8da1f4711039f53614404ed869542
    "\n",
    "X_train = train['text_preprocessed'].values\n",
    "X_validate = validate['text_preprocessed'].values\n",
    "X_test = test['text_preprocessed'].values\n",
    "y_train = train['polarityNum']\n",
    "y_validate = validate['polarityNum']\n",
    "y_test = test['polarityNum']"
   ]
  },
  {
   "cell_type": "code",
<<<<<<< HEAD
   "execution_count": 20,
=======
   "execution_count": 6,
>>>>>>> 20c39ecae8b8da1f4711039f53614404ed869542
   "metadata": {},
   "outputs": [
    {
     "name": "stdout",
     "output_type": "stream",
     "text": [
      "11534\n",
      "1442\n",
      "1442\n"
     ]
    }
   ],
   "source": [
<<<<<<< HEAD
    "print(len(train))\n",
    "print(len(test))\n",
    "print(len(validate))"
=======
    "v = TfidfVectorizer(norm='l2',min_df=0, use_idf= True, smooth_idf=True, sublinear_tf=True, #stop_words='english',\n",
    "                    analyzer='word',  ngram_range=(1, 2))\n",
    "train_features_model = v.fit(X_train)\n",
    "test_features = v.transform(X_test)\n",
    "validate_features =  v.transform(X_validate)\n",
    "train_features = v.fit_transform(X_train)"
>>>>>>> 20c39ecae8b8da1f4711039f53614404ed869542
   ]
  },
  {
   "cell_type": "code",
<<<<<<< HEAD
   "execution_count": 23,
   "metadata": {},
   "outputs": [],
   "source": [
    "v = TfidfVectorizer(norm='l2',min_df=0, use_idf= True, smooth_idf=True, sublinear_tf=True, #stop_words='english',\n",
    "                    analyzer='word',  ngram_range=(1, 2))\n",
    "train_features_model = v.fit(X_train)\n",
    "test_features = v.transform(X_test)\n",
    "validate_features =  v.transform(X_validate)\n",
    "train_features = v.fit_transform(X_train)"
=======
   "execution_count": 7,
   "metadata": {},
   "outputs": [],
   "source": [
    "Classifiers = [ \n",
    "    #LogisticRegression(C=13,solver='saga',max_iter=200), #13 for samsung 19 for iphone #6 for combined\n",
    "    #KNeighborsClassifier(7, weights= 'distance'), #set params\n",
    "    SVC(kernel=\"linear\", C=1, probability=True),\n",
    "    #MultinomialNB(alpha=1.0, fit_prior=True, class_prior=None),\n",
    "    #BernoulliNB(alpha = 1.0),\n",
    "    #DecisionTreeClassifier()#max_depth = 7, min_samples_leaf = 5,\n",
    "        #random_state = 50),\n",
    "    #XGBClassifier(n_estimators = 500),\n",
    "    #RandomForestClassifier(n_estimators=500,max_features= 3),\n",
    "    #GradientBoostingClassifier(n_estimators= 500, random_state= 50),\n",
    "    #AdaBoostClassifier(n_estimators=500, random_state= 50),\n",
    "]"
>>>>>>> 20c39ecae8b8da1f4711039f53614404ed869542
   ]
  },
  {
   "cell_type": "code",
<<<<<<< HEAD
   "execution_count": 24,
   "metadata": {},
   "outputs": [],
   "source": [
    "Classifiers = [ \n",
    "    LogisticRegression(C=13,solver='saga',max_iter=200), #13 for samsung 19 for iphone #6 for combined\n",
    "    #KNeighborsClassifier(7, weights= 'distance'), #set params\n",
    "    #SVC(kernel=\"linear\", C=1, probability=True),\n",
    "    #MultinomialNB(alpha=1.0, fit_prior=True, class_prior=None),\n",
    "    #BernoulliNB(alpha = 1.0),\n",
    "    #DecisionTreeClassifier()#max_depth = 7, min_samples_leaf = 5,\n",
    "        #random_state = 50),\n",
    "    #XGBClassifier(n_estimators = 500),\n",
    "    #RandomForestClassifier(n_estimators=500,max_features= 3),\n",
    "    #GradientBoostingClassifier(n_estimators= 500, random_state= 50),\n",
    "    #AdaBoostClassifier(n_estimators=500, random_state= 50),\n",
    "]"
   ]
  },
  {
   "cell_type": "code",
   "execution_count": 25,
   "metadata": {},
   "outputs": [
    {
     "name": "stdout",
     "output_type": "stream",
     "text": [
      "F1 of LogisticRegression is 0.8737667384946898\n"
     ]
    }
   ],
   "source": [
=======
   "execution_count": null,
   "metadata": {},
   "outputs": [],
   "source": [
>>>>>>> 20c39ecae8b8da1f4711039f53614404ed869542
    "#dense_features=train_features.toarray()\n",
    "#dense_test= validate_features.toarray()\n",
    "import warnings\n",
    "warnings.filterwarnings(module='sklearn*', action='ignore', category=DeprecationWarning)\n",
    "Accuracy=[]\n",
    "Model=[]\n",
    "for classifier in Classifiers:\n",
    "    try:\n",
    "        model = classifier.fit(train_features,y_train)\n",
    "        pred = model.predict(validate_features)\n",
    "    except Exception:\n",
    "        model = classifier.fit(dense_features,y_train)\n",
    "        pred = model.predict(dense_test)\n",
    "    accuracy = accuracy_score(pred,y_validate)\n",
    "    f1 = f1_score(pred,y_validate, average = 'macro')\n",
    "    Accuracy.append(accuracy)\n",
    "    #f1.append(f1)\n",
<<<<<<< HEAD
    "    #scores = cross_val_score(classifier, validate_features, y_validate, cv=5, scoring='f1_macro')\n",
    "    Model.append(classifier.__class__.__name__)\n",
    "    #print('Accuracy of '+classifier.__class__.__name__+' is '+str(accuracy))    \n",
    "    print('F1 of '+classifier.__class__.__name__+' is '+str(f1)) \n",
    "    #print(scores)"
=======
    "    scores = cross_val_score(classifier, train_features, y_train, cv=5)\n",
    "    Model.append(classifier.__class__.__name__)\n",
    "    print('Accuracy of '+classifier.__class__.__name__+' is '+str(accuracy))    \n",
    "    print('F1 of '+classifier.__class__.__name__+' is '+str(f1)) \n",
    "    print(scores)"
>>>>>>> 20c39ecae8b8da1f4711039f53614404ed869542
   ]
  },
  {
   "cell_type": "code",
   "execution_count": 26,
   "metadata": {},
   "outputs": [
    {
     "data": {
      "text/plain": [
<<<<<<< HEAD
       "0.8675373681671648"
=======
       "0.8137797115815957"
>>>>>>> 20c39ecae8b8da1f4711039f53614404ed869542
      ]
     },
     "execution_count": 26,
     "metadata": {},
     "output_type": "execute_result"
    }
   ],
   "source": [
    "#F1 score on test data for each model\n",
    "pred_test = model.predict(test_features)\n",
    "f1_score(pred_test,y_test, average = 'macro')"
<<<<<<< HEAD
=======
   ]
  },
  {
   "cell_type": "code",
   "execution_count": 165,
   "metadata": {},
   "outputs": [],
   "source": [
    "pred = pd.DataFrame( pred.T,columns=['predictions']).to_csv('predictions.csv', index =False)"
   ]
  },
  {
   "cell_type": "code",
   "execution_count": 177,
   "metadata": {},
   "outputs": [],
   "source": [
    "y_test.to_excel('testLables.xlsx', float_format='%.3f', index = False)"
   ]
  },
  {
   "cell_type": "code",
   "execution_count": 167,
   "metadata": {},
   "outputs": [],
   "source": [
    "test_features = pd.DataFrame(X_test.T, columns=['testFeatures']).to_csv('testFeatures.csv', index =False)"
   ]
  },
  {
   "cell_type": "code",
   "execution_count": 400,
   "metadata": {},
   "outputs": [
    {
     "name": "stdout",
     "output_type": "stream",
     "text": [
      "0.8335313734568264\n"
     ]
    }
   ],
   "source": [
    "import warnings\n",
    "warnings.filterwarnings(module='sklearn*', action='ignore', category=DeprecationWarning)\n",
    "seed = 1\n",
    "kfold = model_selection.KFold(n_splits=10, random_state=seed)\n",
    "estimators = []\n",
    "model1 = LogisticRegression(C=10,max_iter=200)\n",
    "estimators.append(('logistic', model1))\n",
    "model2 = SVC(kernel=\"linear\", C=1, probability=True)\n",
    "estimators.append(('SVM', model1))\n",
    "model3 = MultinomialNB ()\n",
    "estimators.append(('NB', model3))\n",
    "# create the ensemble model\n",
    "ensemble = VotingClassifier(estimators)\n",
    "results = model_selection.cross_val_score(ensemble, train_features, y_train, cv=kfold)\n",
    "print(results.mean())"
>>>>>>> 20c39ecae8b8da1f4711039f53614404ed869542
   ]
  },
  {
   "cell_type": "code",
<<<<<<< HEAD
   "execution_count": 165,
   "metadata": {},
   "outputs": [],
   "source": [
    "pred = pd.DataFrame( pred.T,columns=['predictions']).to_csv('predictions.csv', index =False)"
   ]
  },
  {
   "cell_type": "code",
   "execution_count": 177,
   "metadata": {},
   "outputs": [],
   "source": [
    "y_test.to_excel('testLables.xlsx', float_format='%.3f', index = False)"
   ]
  },
  {
   "cell_type": "code",
   "execution_count": 167,
   "metadata": {},
   "outputs": [],
   "source": [
    "test_features = pd.DataFrame(X_test.T, columns=['testFeatures']).to_csv('testFeatures.csv', index =False)"
   ]
  },
  {
   "cell_type": "code",
   "execution_count": 400,
   "metadata": {},
   "outputs": [
    {
     "name": "stdout",
     "output_type": "stream",
     "text": [
      "0.8335313734568264\n"
     ]
    }
   ],
   "source": [
    "import warnings\n",
    "warnings.filterwarnings(module='sklearn*', action='ignore', category=DeprecationWarning)\n",
    "seed = 1\n",
    "kfold = model_selection.KFold(n_splits=10, random_state=seed)\n",
    "estimators = []\n",
    "model1 = LogisticRegression(C=10,max_iter=200)\n",
    "estimators.append(('logistic', model1))\n",
    "model2 = SVC(kernel=\"linear\", C=1, probability=True)\n",
    "estimators.append(('SVM', model1))\n",
    "model3 = MultinomialNB ()\n",
    "estimators.append(('NB', model3))\n",
    "# create the ensemble model\n",
    "ensemble = VotingClassifier(estimators)\n",
    "results = model_selection.cross_val_score(ensemble, train_features, y_train, cv=kfold)\n",
    "print(results.mean())"
   ]
  },
  {
   "cell_type": "code",
=======
>>>>>>> 20c39ecae8b8da1f4711039f53614404ed869542
   "execution_count": 401,
   "metadata": {},
   "outputs": [
    {
     "data": {
      "text/plain": [
       "0.853358202218792"
      ]
     },
     "execution_count": 401,
     "metadata": {},
     "output_type": "execute_result"
    }
   ],
   "source": [
    "ensemble_model = ensemble.fit(train_features,y_train )\n",
    "pred = ensemble_model.predict(test_features)\n",
    "f1_score(pred,y_test, average = 'macro')"
   ]
  },
  {
   "cell_type": "code",
   "execution_count": null,
   "metadata": {},
   "outputs": [],
   "source": []
  }
 ],
 "metadata": {
  "kernelspec": {
   "display_name": "Python 3",
   "language": "python",
   "name": "python3"
  },
  "language_info": {
   "codemirror_mode": {
    "name": "ipython",
    "version": 3
   },
   "file_extension": ".py",
   "mimetype": "text/x-python",
   "name": "python",
   "nbconvert_exporter": "python",
   "pygments_lexer": "ipython3",
   "version": "3.6.5"
  }
 },
 "nbformat": 4,
 "nbformat_minor": 2
}
