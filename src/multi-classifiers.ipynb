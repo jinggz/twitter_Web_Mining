{
 "cells": [
  {
   "cell_type": "code",
   "execution_count": 1,
   "metadata": {},
   "outputs": [],
   "source": [
    "import pandas as pd\n",
    "tweets_preprocessed = pd.read_csv('sentiment_samsung_preprocessed.csv')"
   ]
  },
  {
   "cell_type": "code",
   "execution_count": 2,
   "metadata": {},
   "outputs": [
    {
     "data": {
      "text/html": [
       "<div>\n",
       "<style scoped>\n",
       "    .dataframe tbody tr th:only-of-type {\n",
       "        vertical-align: middle;\n",
       "    }\n",
       "\n",
       "    .dataframe tbody tr th {\n",
       "        vertical-align: top;\n",
       "    }\n",
       "\n",
       "    .dataframe thead th {\n",
       "        text-align: right;\n",
       "    }\n",
       "</style>\n",
       "<table border=\"1\" class=\"dataframe\">\n",
       "  <thead>\n",
       "    <tr style=\"text-align: right;\">\n",
       "      <th></th>\n",
       "      <th>id</th>\n",
       "      <th>text</th>\n",
       "      <th>polarity</th>\n",
       "    </tr>\n",
       "  </thead>\n",
       "  <tbody>\n",
       "    <tr>\n",
       "      <th>0</th>\n",
       "      <td>930830962757455000</td>\n",
       "      <td>phone lot gb available carrier  prefer samsung...</td>\n",
       "      <td>positive</td>\n",
       "    </tr>\n",
       "    <tr>\n",
       "      <th>1</th>\n",
       "      <td>977958263269474000</td>\n",
       "      <td>samsungmobilein  dotindia new samsung os upgr...</td>\n",
       "      <td>negative</td>\n",
       "    </tr>\n",
       "    <tr>\n",
       "      <th>2</th>\n",
       "      <td>968617998096457000</td>\n",
       "      <td>samsung  nt thoughts happening either pure spe...</td>\n",
       "      <td>negative</td>\n",
       "    </tr>\n",
       "  </tbody>\n",
       "</table>\n",
       "</div>"
      ],
      "text/plain": [
       "                   id                                               text  \\\n",
       "0  930830962757455000  phone lot gb available carrier  prefer samsung...   \n",
       "1  977958263269474000   samsungmobilein  dotindia new samsung os upgr...   \n",
       "2  968617998096457000  samsung  nt thoughts happening either pure spe...   \n",
       "\n",
       "   polarity  \n",
       "0  positive  \n",
       "1  negative  \n",
       "2  negative  "
      ]
     },
     "execution_count": 2,
     "metadata": {},
     "output_type": "execute_result"
    }
   ],
   "source": [
    "tweets_preprocessed.head(3)"
   ]
  },
  {
   "cell_type": "code",
   "execution_count": 10,
   "metadata": {},
   "outputs": [],
   "source": [
    "for i in range(0, len(tweets_preprocessed)):\n",
    "    if  tweets_preprocessed.loc[i]['polarity'] == 'positive':\n",
    "        tweets_preprocessed.at[i, 'sentiment'] = 1\n",
    "    elif tweets_preprocessed.loc[i]['polarity'] == 'negative':\n",
    "        tweets_preprocessed.at[i, 'sentiment'] = -1\n",
    "    else:\n",
    "        tweets_preprocessed.at[i, 'sentiment'] = 0"
   ]
  },
  {
   "cell_type": "code",
   "execution_count": 22,
   "metadata": {},
   "outputs": [
    {
     "data": {
      "text/html": [
       "<div>\n",
       "<style scoped>\n",
       "    .dataframe tbody tr th:only-of-type {\n",
       "        vertical-align: middle;\n",
       "    }\n",
       "\n",
       "    .dataframe tbody tr th {\n",
       "        vertical-align: top;\n",
       "    }\n",
       "\n",
       "    .dataframe thead th {\n",
       "        text-align: right;\n",
       "    }\n",
       "</style>\n",
       "<table border=\"1\" class=\"dataframe\">\n",
       "  <thead>\n",
       "    <tr style=\"text-align: right;\">\n",
       "      <th></th>\n",
       "      <th>id</th>\n",
       "      <th>text</th>\n",
       "      <th>polarity</th>\n",
       "      <th>sentiment</th>\n",
       "    </tr>\n",
       "  </thead>\n",
       "  <tbody>\n",
       "    <tr>\n",
       "      <th>0</th>\n",
       "      <td>930830962757455000</td>\n",
       "      <td>phone lot gb available carrier  prefer samsung...</td>\n",
       "      <td>positive</td>\n",
       "      <td>1.0</td>\n",
       "    </tr>\n",
       "    <tr>\n",
       "      <th>1</th>\n",
       "      <td>977958263269474000</td>\n",
       "      <td>samsungmobilein  dotindia new samsung os upgr...</td>\n",
       "      <td>negative</td>\n",
       "      <td>-1.0</td>\n",
       "    </tr>\n",
       "    <tr>\n",
       "      <th>2</th>\n",
       "      <td>968617998096457000</td>\n",
       "      <td>samsung  nt thoughts happening either pure spe...</td>\n",
       "      <td>negative</td>\n",
       "      <td>-1.0</td>\n",
       "    </tr>\n",
       "    <tr>\n",
       "      <th>3</th>\n",
       "      <td>978014137262465000</td>\n",
       "      <td>’ mean neglect people referring innovation  ke...</td>\n",
       "      <td>neutral</td>\n",
       "      <td>0.0</td>\n",
       "    </tr>\n",
       "    <tr>\n",
       "      <th>4</th>\n",
       "      <td>915900425408270000</td>\n",
       "      <td>docthompsonshow  theblazekeith  whatilearnedt...</td>\n",
       "      <td>positive</td>\n",
       "      <td>1.0</td>\n",
       "    </tr>\n",
       "  </tbody>\n",
       "</table>\n",
       "</div>"
      ],
      "text/plain": [
       "                   id                                               text  \\\n",
       "0  930830962757455000  phone lot gb available carrier  prefer samsung...   \n",
       "1  977958263269474000   samsungmobilein  dotindia new samsung os upgr...   \n",
       "2  968617998096457000  samsung  nt thoughts happening either pure spe...   \n",
       "3  978014137262465000  ’ mean neglect people referring innovation  ke...   \n",
       "4  915900425408270000   docthompsonshow  theblazekeith  whatilearnedt...   \n",
       "\n",
       "   polarity  sentiment  \n",
       "0  positive        1.0  \n",
       "1  negative       -1.0  \n",
       "2  negative       -1.0  \n",
       "3   neutral        0.0  \n",
       "4  positive        1.0  "
      ]
     },
     "execution_count": 22,
     "metadata": {},
     "output_type": "execute_result"
    }
   ],
   "source": [
    "tweets_preprocessed.head()"
   ]
  },
  {
   "cell_type": "code",
   "execution_count": 3,
   "metadata": {},
   "outputs": [
    {
     "name": "stderr",
     "output_type": "stream",
     "text": [
      "c:\\users\\d072726\\appdata\\local\\programs\\python\\python36\\lib\\site-packages\\sklearn\\cross_validation.py:41: DeprecationWarning: This module was deprecated in version 0.18 in favor of the model_selection module into which all the refactored classes and functions are moved. Also note that the interface of the new CV iterators are different from that of this module. This module will be removed in 0.20.\n",
      "  \"This module will be removed in 0.20.\", DeprecationWarning)\n"
     ]
    }
   ],
   "source": [
    "from sklearn.cross_validation import train_test_split\n",
    "train,test = train_test_split(tweets_preprocessed,test_size=0.2,random_state= 42)"
   ]
  },
  {
   "cell_type": "code",
   "execution_count": 23,
   "metadata": {},
   "outputs": [],
   "source": [
    "train_tweet=[]\n",
    "for tweet in train['text']:\n",
    "    train_tweet.append(tweet)\n",
    "test_tweet=[]\n",
    "for tweet in test['text']:\n",
    "    test_tweet.append(tweet)\n",
    "complete_tweet= []\n",
    "for tweet in tweets_preprocessed['text']:\n",
    "    complete_tweet.append(tweet)"
   ]
  },
  {
   "cell_type": "code",
   "execution_count": 24,
   "metadata": {},
   "outputs": [],
   "source": [
    "from sklearn.feature_extraction.text import CountVectorizer\n",
    "v = CountVectorizer(analyzer = \"word\")\n",
    "train_features= v.fit_transform(train_tweet)\n",
    "test_features=v.transform(test_tweet)"
   ]
  },
  {
   "cell_type": "code",
   "execution_count": 25,
   "metadata": {},
   "outputs": [],
   "source": [
    "train_features_complete = v.fit_transform(complete_tweet)"
   ]
  },
  {
   "cell_type": "code",
   "execution_count": 19,
   "metadata": {},
   "outputs": [],
   "source": [
    "from sklearn.linear_model import LogisticRegression\n",
    "from sklearn.neighbors import KNeighborsClassifier\n",
    "from sklearn.svm import SVC, LinearSVC, NuSVC\n",
    "from sklearn.tree import DecisionTreeClassifier\n",
    "from sklearn.ensemble import RandomForestClassifier, AdaBoostClassifier, GradientBoostingClassifier\n",
    "from sklearn.naive_bayes import BernoulliNB\n",
    "from sklearn.naive_bayes import MultinomialNB\n",
    "from sklearn.discriminant_analysis import LinearDiscriminantAnalysis\n",
    "from sklearn.discriminant_analysis import QuadraticDiscriminantAnalysis\n",
    "from sklearn.metrics import accuracy_score, f1_score\n",
    "from xgboost import XGBRegressor"
   ]
  },
  {
   "cell_type": "code",
   "execution_count": 20,
   "metadata": {},
   "outputs": [],
   "source": [
    "Classifiers = [\n",
    "    LogisticRegression(C=0.1,solver='liblinear',max_iter=200),\n",
    "    KNeighborsClassifier(7),\n",
    "    SVC(kernel=\"rbf\", C=0.1, probability=True),\n",
    "    #NuSVC(kernel=\"rbf\", probability=True),\n",
    "    XGBRegressor(nthread=1),\n",
    "    DecisionTreeClassifier(),\n",
    "    RandomForestClassifier(n_estimators=500),\n",
    "    AdaBoostClassifier(),\n",
    "    MultinomialNB(alpha=1.0, fit_prior=True, class_prior=None),\n",
    "    BernoulliNB()]"
   ]
  },
  {
   "cell_type": "code",
   "execution_count": 21,
   "metadata": {},
   "outputs": [
    {
     "name": "stderr",
     "output_type": "stream",
     "text": [
      "c:\\users\\d072726\\appdata\\local\\programs\\python\\python36\\lib\\site-packages\\sklearn\\metrics\\classification.py:1137: UndefinedMetricWarning: F-score is ill-defined and being set to 0.0 in labels with no true samples.\n",
      "  'recall', 'true', average, warn_for)\n"
     ]
    },
    {
     "name": "stdout",
     "output_type": "stream",
     "text": [
      "Accuracy of LogisticRegression is 0.701853344077357\n",
      "F1 of LogisticRegression is 0.7049400272795383\n",
      "Accuracy of KNeighborsClassifier is 0.5028203062046737\n",
      "F1 of KNeighborsClassifier is 0.5802107296312082\n",
      "Accuracy of SVC is 0.4528605962933118\n",
      "F1 of SVC is 0.6234054353854687\n",
      "Accuracy of DecisionTreeClassifier is 0.6156325543916197\n",
      "F1 of DecisionTreeClassifier is 0.6174689216828823\n",
      "Accuracy of RandomForestClassifier is 0.6885576148267526\n",
      "F1 of RandomForestClassifier is 0.6948056360734689\n",
      "Accuracy of AdaBoostClassifier is 0.282433521353747\n",
      "F1 of AdaBoostClassifier is 0.38253253074212035\n",
      "Accuracy of MultinomialNB is 0.6591458501208702\n",
      "F1 of MultinomialNB is 0.6606210266725719\n",
      "Accuracy of BernoulliNB is 0.6659951651893634\n",
      "F1 of BernoulliNB is 0.6795201994797936\n"
     ]
    },
    {
     "name": "stderr",
     "output_type": "stream",
     "text": [
      "c:\\users\\d072726\\appdata\\local\\programs\\python\\python36\\lib\\site-packages\\sklearn\\metrics\\classification.py:1137: UndefinedMetricWarning: F-score is ill-defined and being set to 0.0 in labels with no true samples.\n",
      "  'recall', 'true', average, warn_for)\n"
     ]
    }
   ],
   "source": [
    "dense_features=train_features.toarray()\n",
    "dense_test= test_features.toarray()\n",
    "Accuracy=[]\n",
    "Model=[]\n",
    "for classifier in Classifiers:\n",
    "    try:\n",
    "        fit = classifier.fit(train_features,train['polarity'])\n",
    "        pred = fit.predict(test_features)\n",
    "    except Exception:\n",
    "        fit = classifier.fit(dense_features,train['polarity'])\n",
    "        pred = fit.predict(dense_test)\n",
    "    accuracy = accuracy_score(pred,test['polarity'])\n",
    "    f1 = f1_score(pred,test['polarity'], average = 'weighted')\n",
    "    Accuracy.append(accuracy)\n",
    "    #f1.append(f1)\n",
    "    Model.append(classifier.__class__.__name__)\n",
    "    print('Accuracy of '+classifier.__class__.__name__+' is '+str(accuracy))    \n",
    "    print('F1 of '+classifier.__class__.__name__+' is '+str(f1))  "
   ]
  },
  {
   "cell_type": "code",
   "execution_count": 22,
   "metadata": {},
   "outputs": [
    {
     "data": {
      "text/plain": [
       "array(['negative', 'negative', 'positive', ..., 'neutral', 'negative',\n",
       "       'positive'], dtype='<U8')"
      ]
     },
     "execution_count": 22,
     "metadata": {},
     "output_type": "execute_result"
    }
   ],
   "source": [
    "pred"
   ]
  },
  {
   "cell_type": "code",
   "execution_count": 25,
   "metadata": {},
   "outputs": [
    {
     "data": {
      "text/plain": [
       "9928"
      ]
     },
     "execution_count": 25,
     "metadata": {},
     "output_type": "execute_result"
    }
   ],
   "source": [
    "len(train['text'])"
   ]
  },
  {
   "cell_type": "code",
   "execution_count": null,
   "metadata": {},
   "outputs": [],
   "source": []
  }
 ],
 "metadata": {
  "kernelspec": {
   "display_name": "Python 3",
   "language": "python",
   "name": "python3"
  },
  "language_info": {
   "codemirror_mode": {
    "name": "ipython",
    "version": 3
   },
   "file_extension": ".py",
   "mimetype": "text/x-python",
   "name": "python",
   "nbconvert_exporter": "python",
   "pygments_lexer": "ipython3",
   "version": "3.6.5"
  }
 },
 "nbformat": 4,
 "nbformat_minor": 2
}
