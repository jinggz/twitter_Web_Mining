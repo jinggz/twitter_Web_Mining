{
 "cells": [
  {
   "cell_type": "code",
   "execution_count": 8,
   "metadata": {},
   "outputs": [
    {
     "data": {
      "text/html": [
       "<div>\n",
       "<style scoped>\n",
       "    .dataframe tbody tr th:only-of-type {\n",
       "        vertical-align: middle;\n",
       "    }\n",
       "\n",
       "    .dataframe tbody tr th {\n",
       "        vertical-align: top;\n",
       "    }\n",
       "\n",
       "    .dataframe thead th {\n",
       "        text-align: right;\n",
       "    }\n",
       "</style>\n",
       "<table border=\"1\" class=\"dataframe\">\n",
       "  <thead>\n",
       "    <tr style=\"text-align: right;\">\n",
       "      <th></th>\n",
       "      <th>id</th>\n",
       "      <th>text</th>\n",
       "      <th>polarity</th>\n",
       "    </tr>\n",
       "  </thead>\n",
       "  <tbody>\n",
       "    <tr>\n",
       "      <th>0</th>\n",
       "      <td>930830962757455000</td>\n",
       "      <td>phone lot gb available carrier  prefer samsung...</td>\n",
       "      <td>positive</td>\n",
       "    </tr>\n",
       "    <tr>\n",
       "      <th>1</th>\n",
       "      <td>977958263269474000</td>\n",
       "      <td>samsungmobilein  dotindia new samsung os upgr...</td>\n",
       "      <td>negative</td>\n",
       "    </tr>\n",
       "    <tr>\n",
       "      <th>2</th>\n",
       "      <td>968617998096457000</td>\n",
       "      <td>samsung  nt thoughts happening either pure spe...</td>\n",
       "      <td>negative</td>\n",
       "    </tr>\n",
       "  </tbody>\n",
       "</table>\n",
       "</div>"
      ],
      "text/plain": [
       "                   id                                               text  \\\n",
       "0  930830962757455000  phone lot gb available carrier  prefer samsung...   \n",
       "1  977958263269474000   samsungmobilein  dotindia new samsung os upgr...   \n",
       "2  968617998096457000  samsung  nt thoughts happening either pure spe...   \n",
       "\n",
       "   polarity  \n",
       "0  positive  \n",
       "1  negative  \n",
       "2  negative  "
      ]
     },
     "execution_count": 8,
     "metadata": {},
     "output_type": "execute_result"
    }
   ],
   "source": [
    "tweets_preprocessed = pd.read_csv('sentiment_samsung_preprocessed.csv')"
   ]
  },
  {
   "cell_type": "code",
   "execution_count": 27,
   "metadata": {},
   "outputs": [
    {
     "data": {
      "text/html": [
       "<div>\n",
       "<style scoped>\n",
       "    .dataframe tbody tr th:only-of-type {\n",
       "        vertical-align: middle;\n",
       "    }\n",
       "\n",
       "    .dataframe tbody tr th {\n",
       "        vertical-align: top;\n",
       "    }\n",
       "\n",
       "    .dataframe thead th {\n",
       "        text-align: right;\n",
       "    }\n",
       "</style>\n",
       "<table border=\"1\" class=\"dataframe\">\n",
       "  <thead>\n",
       "    <tr style=\"text-align: right;\">\n",
       "      <th></th>\n",
       "      <th>id</th>\n",
       "      <th>text</th>\n",
       "      <th>polarity</th>\n",
       "      <th>sentiment</th>\n",
       "    </tr>\n",
       "  </thead>\n",
       "  <tbody>\n",
       "    <tr>\n",
       "      <th>0</th>\n",
       "      <td>930830962757455000</td>\n",
       "      <td>phone lot gb available carrier  prefer samsung...</td>\n",
       "      <td>positive</td>\n",
       "      <td>1.0</td>\n",
       "    </tr>\n",
       "    <tr>\n",
       "      <th>1</th>\n",
       "      <td>977958263269474000</td>\n",
       "      <td>samsungmobilein  dotindia new samsung os upgr...</td>\n",
       "      <td>negative</td>\n",
       "      <td>-1.0</td>\n",
       "    </tr>\n",
       "    <tr>\n",
       "      <th>2</th>\n",
       "      <td>968617998096457000</td>\n",
       "      <td>samsung  nt thoughts happening either pure spe...</td>\n",
       "      <td>negative</td>\n",
       "      <td>-1.0</td>\n",
       "    </tr>\n",
       "  </tbody>\n",
       "</table>\n",
       "</div>"
      ],
      "text/plain": [
       "                   id                                               text  \\\n",
       "0  930830962757455000  phone lot gb available carrier  prefer samsung...   \n",
       "1  977958263269474000   samsungmobilein  dotindia new samsung os upgr...   \n",
       "2  968617998096457000  samsung  nt thoughts happening either pure spe...   \n",
       "\n",
       "   polarity  sentiment  \n",
       "0  positive        1.0  \n",
       "1  negative       -1.0  \n",
       "2  negative       -1.0  "
      ]
     },
     "execution_count": 27,
     "metadata": {},
     "output_type": "execute_result"
    }
   ],
   "source": [
    "tweets_preprocessed.head(3)"
   ]
  },
  {
   "cell_type": "code",
   "execution_count": 26,
   "metadata": {},
   "outputs": [],
   "source": [
    "for i in range(0, len(tweets_preprocessed)):\n",
    "    if  tweets_preprocessed.loc[i]['polarity'] == 'positive':\n",
    "        tweets_preprocessed.at[i, 'sentiment'] = 1\n",
    "    elif tweets_preprocessed.loc[i]['polarity'] == 'negative':\n",
    "        tweets_preprocessed.at[i, 'sentiment'] = -1\n",
    "    else:\n",
    "        tweets_preprocessed.at[i, 'sentiment'] = 0"
   ]
  },
  {
   "cell_type": "code",
   "execution_count": null,
   "metadata": {},
   "outputs": [],
   "source": [
    "tweets_preprocessed_posNeg =tweets_preprocessed[(tweets_preprocessed. == 1.0) | (tweets_preprocessed.sentiment == -1.0)]"
   ]
  },
  {
   "cell_type": "code",
   "execution_count": 34,
   "metadata": {},
   "outputs": [],
   "source": [
    "from sklearn.cross_validation import train_test_split\n",
    "train,test = train_test_split(tweets_preprocessed,test_size=0.2,random_state=42)"
   ]
  },
  {
   "cell_type": "code",
   "execution_count": 35,
   "metadata": {},
   "outputs": [],
   "source": [
    "train_tweet=[]\n",
    "for tweet in train['text']:\n",
    "    train_tweet.append(tweet)\n",
    "test_tweet=[]\n",
    "for tweet in test['text']:\n",
    "    test_tweet.append(tweet)"
   ]
  },
  {
   "cell_type": "code",
   "execution_count": 36,
   "metadata": {},
   "outputs": [],
   "source": [
    "from sklearn.feature_extraction.text import CountVectorizer\n",
    "v = CountVectorizer(analyzer = \"word\")\n",
    "train_features= v.fit_transform(train_tweet)\n",
    "test_features=v.transform(test_tweet)"
   ]
  },
  {
   "cell_type": "code",
   "execution_count": 57,
   "metadata": {},
   "outputs": [],
   "source": [
    "from sklearn.linear_model import LogisticRegression\n",
    "from sklearn.neighbors import KNeighborsClassifier\n",
    "from sklearn.svm import SVC, LinearSVC, NuSVC\n",
    "from sklearn.tree import DecisionTreeClassifier\n",
    "from sklearn.ensemble import RandomForestClassifier, AdaBoostClassifier, GradientBoostingClassifier\n",
    "from sklearn.naive_bayes import BernoulliNB\n",
    "from sklearn.discriminant_analysis import LinearDiscriminantAnalysis\n",
    "from sklearn.discriminant_analysis import QuadraticDiscriminantAnalysis\n",
    "from sklearn.metrics import accuracy_score, f1_score"
   ]
  },
  {
   "cell_type": "code",
   "execution_count": 58,
   "metadata": {},
   "outputs": [],
   "source": [
    "Classifiers = [\n",
    "    LogisticRegression(C=0.1,solver='liblinear',max_iter=200),\n",
    "    KNeighborsClassifier(3),\n",
    "    #SVC(kernel=\"rbf\", C=0.025, probability=True),\n",
    "    NuSVC(kernel=\"rbf\", probability=True),\n",
    "    DecisionTreeClassifier(),\n",
    "    RandomForestClassifier(n_estimators=200),\n",
    "    AdaBoostClassifier(),\n",
    "    BernoulliNB()]"
   ]
  },
  {
   "cell_type": "code",
   "execution_count": 62,
   "metadata": {},
   "outputs": [
    {
     "name": "stdout",
     "output_type": "stream",
     "text": [
      "Accuracy of LogisticRegression is 0.7026591458501209\n",
      "Accuracy of KNeighborsClassifier is 0.524174053182917\n",
      "Accuracy of NuSVC is 0.6978243352135375\n",
      "Accuracy of DecisionTreeClassifier is 0.6027397260273972\n",
      "Accuracy of RandomForestClassifier is 0.6909750201450443\n",
      "Accuracy of AdaBoostClassifier is 0.6510878323932313\n",
      "Accuracy of BernoulliNB is 0.6663980660757454\n"
     ]
    }
   ],
   "source": [
    "dense_features=train_features.toarray()\n",
    "dense_test= test_features.toarray()\n",
    "Accuracy=[]\n",
    "Model=[]\n",
    "for classifier in Classifiers:\n",
    "    try:\n",
    "        fit = classifier.fit(train_features,train['sentiment'])\n",
    "        pred = fit.predict(test_features)\n",
    "    except Exception:\n",
    "        fit = classifier.fit(dense_features,train['sentiment'])\n",
    "        pred = fit.predict(dense_test)\n",
    "    accuracy = accuracy_score(pred,test['sentiment'])\n",
    "    #f1 = f1_score(pred,test['sentiment'])\n",
    "    Accuracy.append(accuracy)\n",
    "    #f1.append(f1)\n",
    "    Model.append(classifier.__class__.__name__)\n",
    "    print('Accuracy of '+classifier.__class__.__name__+' is '+str(accuracy))    \n",
    "    #print('F1 of '+classifier.__class__.__name__+' is '+str(f1))  "
   ]
  },
  {
   "cell_type": "code",
   "execution_count": null,
   "metadata": {},
   "outputs": [],
   "source": []
  }
 ],
 "metadata": {
  "kernelspec": {
   "display_name": "Python 3",
   "language": "python",
   "name": "python3"
  },
  "language_info": {
   "codemirror_mode": {
    "name": "ipython",
    "version": 3
   },
   "file_extension": ".py",
   "mimetype": "text/x-python",
   "name": "python",
   "nbconvert_exporter": "python",
   "pygments_lexer": "ipython3",
   "version": "3.6.5"
  }
 },
 "nbformat": 4,
 "nbformat_minor": 2
}
