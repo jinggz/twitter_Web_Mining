{
 "cells": [
  {
   "cell_type": "code",
   "execution_count": 1,
   "metadata": {
    "collapsed": true
   },
   "outputs": [],
   "source": [
    "import numpy as np # linear algebra\n",
    "import pandas as pd # data processing, CSV file I/O (e.g. pd.read_csv)\n",
    "from sklearn.model_selection import train_test_split # function for splitting data to train and test sets\n",
    "\n",
    "import nltk\n",
    "from nltk.corpus import stopwords\n",
    "from nltk.classify import SklearnClassifier\n",
    "\n",
    "#from wordcloud import WordCloud,STOPWORDS\n",
    "import matplotlib.pyplot as plt\n",
    "%matplotlib inline\n",
    "# Input data files are available in the \"../input/\" directory.\n",
    "# For example, running this (by clicking run or pressing Shift+Enter) will list the files in the input directory\n",
    "\n",
    "from subprocess import check_output"
   ]
  },
  {
   "cell_type": "code",
   "execution_count": 3,
   "metadata": {
    "collapsed": true
   },
   "outputs": [],
   "source": [
    "data = pd.read_csv('F:/web mining/webmining project/crawler/annotation_data/Iphone_plus_samsung_annotated_24000.csv')\n",
    "# Keeping only the neccessary columns\n",
    "data = data[['text','polarity']]"
   ]
  },
  {
   "cell_type": "code",
   "execution_count": 4,
   "metadata": {
    "collapsed": true
   },
   "outputs": [],
   "source": [
    "#data"
   ]
  },
  {
   "cell_type": "code",
   "execution_count": 5,
   "metadata": {
    "collapsed": true
   },
   "outputs": [],
   "source": [
    "# Splitting the dataset into train and test set\n",
    "train, test = train_test_split(data,test_size = 0.1)\n",
    "\n",
    "# Removing neutral sentiments\n",
    "    #train = train[train.sentiment != \"Neutral\"]"
   ]
  },
  {
   "cell_type": "code",
   "execution_count": 6,
   "metadata": {
    "collapsed": true
   },
   "outputs": [],
   "source": [
    "train_pos = train[ train['polarity'] == 'positive']\n",
    "train_pos = train_pos['text']\n",
    "train_neg = train[ train['polarity'] == 'negative']\n",
    "train_neg = train_neg['text']\n",
    "train_nut = train[ train['polarity'] == 'neutral']\n",
    "train_nut = train_nut['text']"
   ]
  },
  {
   "cell_type": "code",
   "execution_count": 7,
   "metadata": {
    "collapsed": true
   },
   "outputs": [],
   "source": [
    "tweets = []\n",
    "stopwords_set = set(stopwords.words(\"english\"))\n",
    "\n",
    "for index, row in train.iterrows():\n",
    "    words_filtered = [e.lower() for e in row.text.split() if len(e) >= 3]\n",
    "    words_cleaned = [word for word in words_filtered\n",
    "        if 'http' not in word\n",
    "        and not word.startswith('@')\n",
    "        and not word.startswith('#')\n",
    "        and word != 'RT']\n",
    "    words_without_stopwords = [word for word in words_cleaned if not word in stopwords_set]\n",
    "    tweets.append((words_cleaned,row.polarity))\n",
    "    \n",
    "test_pos = test[ test['polarity'] == 'positive']\n",
    "test_pos = test_pos['text']\n",
    "test_neg = test[ test['polarity'] == 'negative']\n",
    "test_neg = test_neg['text']\n",
    "test_nut = test[ test['polarity'] == 'neutral']\n",
    "test_nut = test_nut['text']"
   ]
  },
  {
   "cell_type": "code",
   "execution_count": 8,
   "metadata": {
    "collapsed": true
   },
   "outputs": [],
   "source": [
    "#tweets"
   ]
  },
  {
   "cell_type": "code",
   "execution_count": 9,
   "metadata": {
    "collapsed": true
   },
   "outputs": [],
   "source": [
    "# Extracting word features\n",
    "def get_words_in_tweets(tweets):\n",
    "    all = []\n",
    "    for (words, polarity) in tweets:\n",
    "        all.extend(words)\n",
    "    return all\n",
    "def get_word_features(wordlist):\n",
    "    wordlist = nltk.FreqDist(wordlist)\n",
    "    features = wordlist.keys()\n",
    "    return features\n",
    "w_features = get_word_features(get_words_in_tweets(tweets))\n",
    "\n",
    "def extract_features(document):\n",
    "    document_words = set(document)\n",
    "    features = {}\n",
    "    for word in w_features:\n",
    "        features['containts(%s)' % word] = (word in document_words)\n",
    "    return features\n"
   ]
  },
  {
   "cell_type": "code",
   "execution_count": 10,
   "metadata": {
    "collapsed": true
   },
   "outputs": [],
   "source": [
    "# Training the Naive Bayes classifier\n",
    "training_set = nltk.classify.apply_features(extract_features,tweets)\n",
    "classifier = nltk.NaiveBayesClassifier.train(training_set)"
   ]
  },
  {
   "cell_type": "code",
   "execution_count": 11,
   "metadata": {},
   "outputs": [
    {
     "name": "stdout",
     "output_type": "stream",
     "text": [
      "[Negative]: 817/667 \n",
      "[Positive]: 549/164 \n",
      "[Neutral]: 1073/767 \n"
     ]
    }
   ],
   "source": [
    "neg_cnt = 0\n",
    "pos_cnt = 0\n",
    "nut_cnt = 0\n",
    "for obj in test_neg: \n",
    "    res =  classifier.classify(extract_features(obj.split()))\n",
    "    if(res == 'negative'): \n",
    "        neg_cnt = neg_cnt + 1\n",
    "for obj in test_pos: \n",
    "    res =  classifier.classify(extract_features(obj.split()))\n",
    "    if(res == 'positive'): \n",
    "        pos_cnt = pos_cnt + 1\n",
    "for obj in test_nut: \n",
    "    res =  classifier.classify(extract_features(obj.split()))\n",
    "    if(res == 'neutral'): \n",
    "        nut_cnt = nut_cnt + 1\n",
    "        \n",
    " "
   ]
  },
  {
   "cell_type": "code",
   "execution_count": 20,
   "metadata": {},
   "outputs": [
    {
     "name": "stdout",
     "output_type": "stream",
     "text": [
      "[Negative]: 817/667 \n",
      "[Positive]: 549/164 \n",
      "[Neutral]: 1073/767 \n",
      "[Negative]: 0.8164014687882497 \n",
      "[Positive]: 0.2987249544626594 \n",
      "[Neutral]: 0.7148182665424044 \n"
     ]
    }
   ],
   "source": [
    "print('[Negative]: %s/%s '  % (len(test_neg),neg_cnt))        \n",
    "print('[Positive]: %s/%s '  % (len(test_pos),pos_cnt)) \n",
    "print('[Neutral]: %s/%s '  % (len(test_nut),nut_cnt))\n",
    "\n",
    "\n",
    "a_neg = len(test_neg)\n",
    "a_pos = len(test_pos)\n",
    "a_nut = len(test_nut)\n",
    "\n",
    "b_neg = neg_cnt\n",
    "b_pos = pos_cnt\n",
    "b_nut = nut_cnt\n",
    "\n",
    "\n",
    "c_neg = b_neg/a_neg\n",
    "c_pos = b_pos/a_pos\n",
    "c_nut = b_nut/a_nut\n",
    "\n",
    "print('[Negative]: %s '  % c_neg)        \n",
    "print('[Positive]: %s '  % c_pos) \n",
    "print('[Neutral]: %s '  % c_nut ) "
   ]
  },
  {
   "cell_type": "code",
   "execution_count": null,
   "metadata": {
    "collapsed": true
   },
   "outputs": [],
   "source": []
  }
 ],
 "metadata": {
  "kernelspec": {
   "display_name": "Python 3",
   "language": "python",
   "name": "python3"
  },
  "language_info": {
   "codemirror_mode": {
    "name": "ipython",
    "version": 3
   },
   "file_extension": ".py",
   "mimetype": "text/x-python",
   "name": "python",
   "nbconvert_exporter": "python",
   "pygments_lexer": "ipython3",
   "version": "3.6.1"
  }
 },
 "nbformat": 4,
 "nbformat_minor": 2
}
