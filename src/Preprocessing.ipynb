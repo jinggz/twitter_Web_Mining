{
 "cells": [
  {
   "cell_type": "markdown",
   "metadata": {},
   "source": [
    "# Import extracted tweets into pandas dataframe"
   ]
  },
  {
   "cell_type": "code",
   "execution_count": null,
   "metadata": {},
   "outputs": [],
   "source": [
    "import pandas as pd\n",
    "data = pd.read_csv('Iphone_final_brand.csv', sep= ',',encoding='utf-8',error_bad_lines=False,engine='python')"
   ]
  },
  {
   "cell_type": "code",
   "execution_count": 15,
   "metadata": {},
   "outputs": [
    {
     "data": {
      "text/plain": [
       "119294"
      ]
     },
     "metadata": {},
     "output_type": "display_data"
    },
    {
     "data": {
      "text/html": [
       "<div>\n",
       "<style scoped>\n",
       "    .dataframe tbody tr th:only-of-type {\n",
       "        vertical-align: middle;\n",
       "    }\n",
       "\n",
       "    .dataframe tbody tr th {\n",
       "        vertical-align: top;\n",
       "    }\n",
       "\n",
       "    .dataframe thead th {\n",
       "        text-align: right;\n",
       "    }\n",
       "</style>\n",
       "<table border=\"1\" class=\"dataframe\">\n",
       "  <thead>\n",
       "    <tr style=\"text-align: right;\">\n",
       "      <th></th>\n",
       "      <th>id</th>\n",
       "      <th>date</th>\n",
       "      <th>text</th>\n",
       "      <th>permalink</th>\n",
       "      <th>Brand</th>\n",
       "    </tr>\n",
       "  </thead>\n",
       "  <tbody>\n",
       "    <tr>\n",
       "      <th>0</th>\n",
       "      <td>925497583946076160</td>\n",
       "      <td>2017-10-31 23:59</td>\n",
       "      <td>i bought erin an iphone so she can text me aga...</td>\n",
       "      <td>https://twitter.com/briplumleyy/status/9254975...</td>\n",
       "      <td>Iphone</td>\n",
       "    </tr>\n",
       "    <tr>\n",
       "      <th>1</th>\n",
       "      <td>925496783630884864</td>\n",
       "      <td>2017-10-31 23:56</td>\n",
       "      <td>so my phone gave up on me (lol exactly on Nov1...</td>\n",
       "      <td>https://twitter.com/iamwilliamlim/status/92549...</td>\n",
       "      <td>Iphone</td>\n",
       "    </tr>\n",
       "    <tr>\n",
       "      <th>2</th>\n",
       "      <td>925496398027673600</td>\n",
       "      <td>2017-10-31 23:55</td>\n",
       "      <td>Idk who let me adult but I just ordered the iP...</td>\n",
       "      <td>https://twitter.com/bethanydc19/status/9254963...</td>\n",
       "      <td>Iphone</td>\n",
       "    </tr>\n",
       "  </tbody>\n",
       "</table>\n",
       "</div>"
      ],
      "text/plain": [
       "                   id              date  \\\n",
       "0  925497583946076160  2017-10-31 23:59   \n",
       "1  925496783630884864  2017-10-31 23:56   \n",
       "2  925496398027673600  2017-10-31 23:55   \n",
       "\n",
       "                                                text  \\\n",
       "0  i bought erin an iphone so she can text me aga...   \n",
       "1  so my phone gave up on me (lol exactly on Nov1...   \n",
       "2  Idk who let me adult but I just ordered the iP...   \n",
       "\n",
       "                                           permalink   Brand  \n",
       "0  https://twitter.com/briplumleyy/status/9254975...  Iphone  \n",
       "1  https://twitter.com/iamwilliamlim/status/92549...  Iphone  \n",
       "2  https://twitter.com/bethanydc19/status/9254963...  Iphone  "
      ]
     },
     "execution_count": 15,
     "metadata": {},
     "output_type": "execute_result"
    }
   ],
   "source": [
    "display(len(data))\n",
    "data.head(3)"
   ]
  },
  {
   "cell_type": "markdown",
   "metadata": {},
   "source": [
    "# Preprocessing step\n",
    "# (lower case, word tokenize,stopword removal,punctuation removal, stemming)"
   ]
  },
  {
   "cell_type": "code",
   "execution_count": 17,
   "metadata": {},
   "outputs": [],
   "source": [
    "from nltk.corpus import stopwords\n",
    "from nltk import word_tokenize\n",
    "import string\n",
    "import codecs\n",
    "import csv\n",
    "from nltk.stem import PorterStemmer\n",
    "\n",
    "porter = PorterStemmer()\n",
    "\n",
    "with codecs.open('Preprocessed_iphone.csv', 'w', 'utf-8') as csv_file:\n",
    "    writer = csv.writer(csv_file)\n",
    "    writer.writerow(['id', 'date','text','permalink','brand'])\n",
    "    for i in range(len(data)):\n",
    "        text = (data['text'].astype(str))[i].lower()\n",
    "\n",
    "        textSplit = [word for word in word_tokenize(text) if word not in set(stopwords.words('english'))]\n",
    "        noPunc = [word for word in str(textSplit) if word not in string.punctuation]\n",
    "        tokens = ''.join(noPunc)\n",
    "        wordStem = [word for word in porter.stem(tokens)]\n",
    "        wordString = ''.join(wordStem)\n",
    "        writer.writerow([data.id[i],data.date[i], wordString,data.permalink[i],data.Brand[i]]) "
   ]
  },
  {
   "cell_type": "code",
   "execution_count": null,
   "metadata": {},
   "outputs": [],
   "source": [
    "data_processed = pd.read_csv('Preprocessed_iphone.csv' ,sep= ',',encoding='utf-8')\n",
    "if data['id'].equals(data_processed['id']) == False:\n",
    "    print (data['id'])"
   ]
  }
 ],
 "metadata": {
  "kernelspec": {
   "display_name": "Python 3",
   "language": "python",
   "name": "python3"
  },
  "language_info": {
   "codemirror_mode": {
    "name": "ipython",
    "version": 3
   },
   "file_extension": ".py",
   "mimetype": "text/x-python",
   "name": "python",
   "nbconvert_exporter": "python",
   "pygments_lexer": "ipython3",
   "version": "3.6.5"
  }
 },
 "nbformat": 4,
 "nbformat_minor": 2
}
